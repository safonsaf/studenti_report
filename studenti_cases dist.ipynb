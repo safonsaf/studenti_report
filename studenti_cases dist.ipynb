{
 "cells": [
  {
   "cell_type": "code",
   "execution_count": null,
   "metadata": {},
   "outputs": [],
   "source": [
    "import pandas as pd\n",
    "import numpy as np\n",
    "import re\n",
    "import uuid\n",
    "import seaborn as sns\n",
    "import matplotlib.pyplot as plt\n",
    "import plotly.express as px\n",
    "from sklearn.cluster import KMeans\n",
    "\n",
    "import plotly.graph_objects as go\n",
    "\n",
    "from sklearn.decomposition import PCA\n",
    "\n",
    "pd.set_option('display.max_rows', None)\n",
    "pd.set_option('display.max_columns', None)\n",
    "pd.set_option('display.max_colwidth', None)\n",
    "pd.options.display.max_columns=None\n",
    "pd.options.mode.chained_assignment = None"
   ]
  },
  {
   "cell_type": "code",
   "execution_count": 2,
   "metadata": {},
   "outputs": [],
   "source": [
    "stud_feb= pd.read_excel(r'C:\\Users\\User\\studenti_cases\\studenti_feb_24.xlsx')"
   ]
  },
  {
   "cell_type": "code",
   "execution_count": 3,
   "metadata": {},
   "outputs": [],
   "source": [
    "# Добавление uuid\n",
    "def text_to_uuid(text):\n",
    "    return str(uuid.uuid5(uuid.NAMESPACE_DNS, text))\n",
    "stud_feb.insert(0, 'uuid', stud_feb.apply(lambda row: text_to_uuid(' '.join(row['ФИО'])), axis=1))\n",
    "stud_feb_fio_uuid_full=stud_feb.copy()\n",
    "stud_feb_fio_uuid=stud_feb.drop_duplicates(subset='uuid')\n",
    "# удаление лишних столбцов \n",
    "stud_feb.drop(columns=['ФИО','Номер ЛД','№п/п'], inplace=True)\n",
    "# меняю названия столбцов\n",
    "stud_feb=stud_feb.rename(columns={'Уровень подготовки':'degree','Специальность/направление':'faculty','Учебный год':'year','Полугодие':'semester','Дисциплина':'subject','Оценка (без пересдач)':'marks','Оценка (успеваемость)':'marks_final','Корпоративный Email':'email','Учебная группа':'group'})"
   ]
  },
  {
   "cell_type": "code",
   "execution_count": 4,
   "metadata": {},
   "outputs": [],
   "source": [
    "# убираю все нули\n",
    "# stud_feb = stud_feb.dropna(subset=['marks', 'marks_final'], how='all') "
   ]
  },
  {
   "cell_type": "code",
   "execution_count": 5,
   "metadata": {},
   "outputs": [],
   "source": [
    "# убираем будущее\n",
    "stud_feb['marks'] = stud_feb['marks'].str.strip()\n",
    "stud_feb['marks_final'] = stud_feb['marks_final'].str.strip()\n",
    "stud_feb=stud_feb.query('year != \"2024 - 2025\" and year != \"2025 - 2026\" and year != \"2026 - 2027\" and year != \"2027 - 2028\" and year != \"2028 - 2029\" and year != \"2029 - 2030\" ').reset_index(drop=True)\n"
   ]
  },
  {
   "cell_type": "code",
   "execution_count": 6,
   "metadata": {},
   "outputs": [],
   "source": [
    "# год и семестр вместе, убираем еще один слой будущего \n",
    "stud_feb['date']=stud_feb['year'] + stud_feb['semester']\n",
    "stud_feb['date'] = stud_feb['date'].str.strip()\n",
    "stud_feb=stud_feb.query('date != \"2023 - 2024II полугодие\"')\n"
   ]
  },
  {
   "cell_type": "code",
   "execution_count": 7,
   "metadata": {},
   "outputs": [
    {
     "name": "stderr",
     "output_type": "stream",
     "text": [
      "C:\\Users\\User\\AppData\\Local\\Temp\\ipykernel_13448\\1356810080.py:8: FutureWarning: A value is trying to be set on a copy of a DataFrame or Series through chained assignment using an inplace method.\n",
      "The behavior will change in pandas 3.0. This inplace method will never work because the intermediate object on which we are setting values always behaves as a copy.\n",
      "\n",
      "For example, when doing 'df[col].method(value, inplace=True)', try using 'df.method({col: value}, inplace=True)' or df[col] = df[col].method(value) instead, to perform the operation inplace on the original object.\n",
      "\n",
      "\n",
      "  stud_feb['date'].replace(dict,inplace=True)\n"
     ]
    }
   ],
   "source": [
    "dict={\"2020 - 2021I полугодие\": \"20_21_semestr1\",\n",
    "    \"2020 - 2021II полугодие\": \"20_21_semestr2\",\n",
    "    \"2021 - 2022I полугодие\": \"21_22_semestr1\",\n",
    "    \"2021 - 2022II полугодие\": \"21_22_semestr2\",\n",
    "    \"2022 - 2023I полугодие\": \"22_23_semestr1\",\n",
    "    \"2022 - 2023II полугодие\": \"22_23_semestr2\",\n",
    "    \"2023 - 2024I полугодие\": \"23_24_semestr1\"}\n",
    "stud_feb['date'].replace(dict,inplace=True)"
   ]
  },
  {
   "cell_type": "code",
   "execution_count": 8,
   "metadata": {},
   "outputs": [],
   "source": [
    "# датафрейм, в котором в котором пропущенны оба значения в оценках \n",
    "stud_null = stud_feb[(stud_feb['marks'].isnull()) & (stud_feb['marks_final'].isnull())]"
   ]
  },
  {
   "cell_type": "code",
   "execution_count": 9,
   "metadata": {},
   "outputs": [],
   "source": [
    "# выделяем курс студента для каждого наблюдения "
   ]
  },
  {
   "cell_type": "code",
   "execution_count": 10,
   "metadata": {},
   "outputs": [],
   "source": [
    "stud_feb['year_group'] = stud_feb['group'].str.extract(r'-(\\d{2})-')\n",
    "\n",
    "stud_feb['year_group'] = stud_feb['year_group'].astype(float)\n",
    "\n",
    "stud_feb['year_group'] = stud_feb['year_group'].apply(lambda x: 2000 + x)"
   ]
  },
  {
   "cell_type": "code",
   "execution_count": 11,
   "metadata": {},
   "outputs": [
    {
     "data": {
      "text/plain": [
       "year_group\n",
       "2020.0    85636\n",
       "2022.0    67105\n",
       "2021.0    65600\n",
       "2023.0    22204\n",
       "2019.0    20618\n",
       "2018.0    13565\n",
       "2017.0      799\n",
       "2016.0      627\n",
       "Name: count, dtype: int64"
      ]
     },
     "execution_count": 11,
     "metadata": {},
     "output_type": "execute_result"
    }
   ],
   "source": [
    "stud_feb['year_group'].value_counts()"
   ]
  },
  {
   "cell_type": "code",
   "execution_count": 12,
   "metadata": {},
   "outputs": [
    {
     "data": {
      "text/html": [
       "<div>\n",
       "<style scoped>\n",
       "    .dataframe tbody tr th:only-of-type {\n",
       "        vertical-align: middle;\n",
       "    }\n",
       "\n",
       "    .dataframe tbody tr th {\n",
       "        vertical-align: top;\n",
       "    }\n",
       "\n",
       "    .dataframe thead th {\n",
       "        text-align: right;\n",
       "    }\n",
       "</style>\n",
       "<table border=\"1\" class=\"dataframe\">\n",
       "  <thead>\n",
       "    <tr style=\"text-align: right;\">\n",
       "      <th></th>\n",
       "      <th>uuid</th>\n",
       "      <th>email</th>\n",
       "      <th>subject</th>\n",
       "      <th>marks</th>\n",
       "      <th>marks_final</th>\n",
       "      <th>semester</th>\n",
       "      <th>year</th>\n",
       "      <th>faculty</th>\n",
       "      <th>degree</th>\n",
       "      <th>group</th>\n",
       "      <th>date</th>\n",
       "      <th>year_group</th>\n",
       "    </tr>\n",
       "  </thead>\n",
       "  <tbody>\n",
       "    <tr>\n",
       "      <th>0</th>\n",
       "      <td>7ea6b823-4347-5f8a-8b70-36a92dc8542d</td>\n",
       "      <td>m2010218@edu.misis.ru</td>\n",
       "      <td>Автоматизация технологических процессов</td>\n",
       "      <td>Хорошо</td>\n",
       "      <td>Хорошо</td>\n",
       "      <td>II полугодие</td>\n",
       "      <td>2022 - 2023</td>\n",
       "      <td>Информатика и вычислительная техника</td>\n",
       "      <td>Академический бакалавр</td>\n",
       "      <td>БИВТ-20-4</td>\n",
       "      <td>22_23_semestr2</td>\n",
       "      <td>2020.0</td>\n",
       "    </tr>\n",
       "    <tr>\n",
       "      <th>1</th>\n",
       "      <td>7ea6b823-4347-5f8a-8b70-36a92dc8542d</td>\n",
       "      <td>m2010218@edu.misis.ru</td>\n",
       "      <td>Алгоритмы дискретной математики</td>\n",
       "      <td>Хорошо</td>\n",
       "      <td>Хорошо</td>\n",
       "      <td>II полугодие</td>\n",
       "      <td>2021 - 2022</td>\n",
       "      <td>Информатика и вычислительная техника</td>\n",
       "      <td>Академический бакалавр</td>\n",
       "      <td>БИВТ-20-4</td>\n",
       "      <td>21_22_semestr2</td>\n",
       "      <td>2020.0</td>\n",
       "    </tr>\n",
       "    <tr>\n",
       "      <th>2</th>\n",
       "      <td>7ea6b823-4347-5f8a-8b70-36a92dc8542d</td>\n",
       "      <td>m2010218@edu.misis.ru</td>\n",
       "      <td>Базы данных</td>\n",
       "      <td>Хорошо</td>\n",
       "      <td>Хорошо</td>\n",
       "      <td>I полугодие</td>\n",
       "      <td>2021 - 2022</td>\n",
       "      <td>Информатика и вычислительная техника</td>\n",
       "      <td>Академический бакалавр</td>\n",
       "      <td>БИВТ-20-4</td>\n",
       "      <td>21_22_semestr1</td>\n",
       "      <td>2020.0</td>\n",
       "    </tr>\n",
       "  </tbody>\n",
       "</table>\n",
       "</div>"
      ],
      "text/plain": [
       "                                   uuid                  email  \\\n",
       "0  7ea6b823-4347-5f8a-8b70-36a92dc8542d  m2010218@edu.misis.ru   \n",
       "1  7ea6b823-4347-5f8a-8b70-36a92dc8542d  m2010218@edu.misis.ru   \n",
       "2  7ea6b823-4347-5f8a-8b70-36a92dc8542d  m2010218@edu.misis.ru   \n",
       "\n",
       "                                   subject   marks marks_final      semester  \\\n",
       "0  Автоматизация технологических процессов  Хорошо      Хорошо  II полугодие   \n",
       "1          Алгоритмы дискретной математики  Хорошо      Хорошо  II полугодие   \n",
       "2                              Базы данных  Хорошо      Хорошо   I полугодие   \n",
       "\n",
       "          year                               faculty                  degree  \\\n",
       "0  2022 - 2023  Информатика и вычислительная техника  Академический бакалавр   \n",
       "1  2021 - 2022  Информатика и вычислительная техника  Академический бакалавр   \n",
       "2  2021 - 2022  Информатика и вычислительная техника  Академический бакалавр   \n",
       "\n",
       "       group            date  year_group  \n",
       "0  БИВТ-20-4  22_23_semestr2      2020.0  \n",
       "1  БИВТ-20-4  21_22_semestr2      2020.0  \n",
       "2  БИВТ-20-4  21_22_semestr1      2020.0  "
      ]
     },
     "execution_count": 12,
     "metadata": {},
     "output_type": "execute_result"
    }
   ],
   "source": [
    "stud_feb.head(3)"
   ]
  },
  {
   "cell_type": "markdown",
   "metadata": {},
   "source": [
    "####  выбор нужного курса "
   ]
  },
  {
   "cell_type": "code",
   "execution_count": 13,
   "metadata": {},
   "outputs": [],
   "source": [
    "# к нижнему регистру столбец degree\n",
    "stud_feb['degree'] = stud_feb['degree'].str.lower()\n",
    "\n",
    "#выбираем только бакалавров\n",
    "stud_feb = stud_feb[stud_feb['degree'].str.contains('бакалавр')]"
   ]
  },
  {
   "cell_type": "code",
   "execution_count": 14,
   "metadata": {},
   "outputs": [],
   "source": [
    "# оставили только бакалвров, которые сейчас на 4 курсе \n",
    "stud_feb=stud_feb[stud_feb['year_group'] == 2020]"
   ]
  },
  {
   "cell_type": "code",
   "execution_count": 15,
   "metadata": {},
   "outputs": [
    {
     "name": "stdout",
     "output_type": "stream",
     "text": [
      "<class 'pandas.core.frame.DataFrame'>\n",
      "Index: 74416 entries, 0 to 349703\n",
      "Data columns (total 12 columns):\n",
      " #   Column       Non-Null Count  Dtype  \n",
      "---  ------       --------------  -----  \n",
      " 0   uuid         74416 non-null  object \n",
      " 1   email        74416 non-null  object \n",
      " 2   subject      74406 non-null  object \n",
      " 3   marks        65134 non-null  object \n",
      " 4   marks_final  68350 non-null  object \n",
      " 5   semester     74406 non-null  object \n",
      " 6   year         74406 non-null  object \n",
      " 7   faculty      74416 non-null  object \n",
      " 8   degree       74416 non-null  object \n",
      " 9   group        74416 non-null  object \n",
      " 10  date         74406 non-null  object \n",
      " 11  year_group   74416 non-null  float64\n",
      "dtypes: float64(1), object(11)\n",
      "memory usage: 7.4+ MB\n"
     ]
    }
   ],
   "source": [
    "stud_feb.info()"
   ]
  },
  {
   "cell_type": "code",
   "execution_count": 16,
   "metadata": {},
   "outputs": [
    {
     "data": {
      "text/plain": [
       "1391"
      ]
     },
     "execution_count": 16,
     "metadata": {},
     "output_type": "execute_result"
    }
   ],
   "source": [
    "len(stud_feb['uuid'].value_counts())"
   ]
  },
  {
   "cell_type": "code",
   "execution_count": 17,
   "metadata": {},
   "outputs": [],
   "source": [
    "#### удаляем 20% случаев, где обе оценки пропущены "
   ]
  },
  {
   "cell_type": "code",
   "execution_count": 18,
   "metadata": {},
   "outputs": [],
   "source": [
    "# выделяем только тех, у кого обе оценки null \n",
    "vse_nuli=stud_feb[stud_feb['marks_final'].isnull() & stud_feb['marks'].isnull()]"
   ]
  },
  {
   "cell_type": "code",
   "execution_count": 19,
   "metadata": {},
   "outputs": [],
   "source": [
    "grouped = vse_nuli.groupby('uuid')\n",
    "\n",
    "# создаю датафрейм для сохранения строк после удаления 20% из каждой группы\n",
    "nuli_out = pd.DataFrame(columns=vse_nuli.columns)"
   ]
  },
  {
   "cell_type": "code",
   "execution_count": 20,
   "metadata": {},
   "outputs": [
    {
     "name": "stderr",
     "output_type": "stream",
     "text": [
      "C:\\Users\\User\\AppData\\Local\\Temp\\ipykernel_13448\\324149620.py:5: FutureWarning: The behavior of DataFrame concatenation with empty or all-NA entries is deprecated. In a future version, this will no longer exclude empty or all-NA columns when determining the result dtypes. To retain the old behavior, exclude the relevant entries before the concat operation.\n",
      "  nuli_out = pd.concat([nuli_out, sampled_group])\n"
     ]
    }
   ],
   "source": [
    "# оставляем 20% строк из каждой группы\n",
    "for name, group in grouped:\n",
    "    num_rows_to_keep = int(len(group) * 0.2)\n",
    "    sampled_group = group.sample(n=num_rows_to_keep, random_state=42)  # Фиксируем random_state для воспроизводимости\n",
    "    nuli_out = pd.concat([nuli_out, sampled_group])"
   ]
  },
  {
   "cell_type": "code",
   "execution_count": 21,
   "metadata": {},
   "outputs": [
    {
     "name": "stdout",
     "output_type": "stream",
     "text": [
      "<class 'pandas.core.frame.DataFrame'>\n",
      "Index: 766 entries, 100399 to 224479\n",
      "Data columns (total 12 columns):\n",
      " #   Column       Non-Null Count  Dtype  \n",
      "---  ------       --------------  -----  \n",
      " 0   uuid         766 non-null    object \n",
      " 1   email        766 non-null    object \n",
      " 2   subject      766 non-null    object \n",
      " 3   marks        0 non-null      object \n",
      " 4   marks_final  0 non-null      object \n",
      " 5   semester     766 non-null    object \n",
      " 6   year         766 non-null    object \n",
      " 7   faculty      766 non-null    object \n",
      " 8   degree       766 non-null    object \n",
      " 9   group        766 non-null    object \n",
      " 10  date         766 non-null    object \n",
      " 11  year_group   766 non-null    float64\n",
      "dtypes: float64(1), object(11)\n",
      "memory usage: 77.8+ KB\n"
     ]
    }
   ],
   "source": [
    "nuli_out.info()"
   ]
  },
  {
   "cell_type": "code",
   "execution_count": null,
   "metadata": {},
   "outputs": [],
   "source": []
  },
  {
   "cell_type": "code",
   "execution_count": 22,
   "metadata": {},
   "outputs": [],
   "source": [
    "# удалил 20% оценок с двумя нулями, предполагая что это пустые предметы по выбору \n",
    "indexes_to_drop = nuli_out.index\n",
    "stud_feb.drop(index=indexes_to_drop, inplace=True)"
   ]
  },
  {
   "cell_type": "code",
   "execution_count": 23,
   "metadata": {},
   "outputs": [
    {
     "name": "stdout",
     "output_type": "stream",
     "text": [
      "<class 'pandas.core.frame.DataFrame'>\n",
      "Index: 73650 entries, 0 to 349703\n",
      "Data columns (total 12 columns):\n",
      " #   Column       Non-Null Count  Dtype  \n",
      "---  ------       --------------  -----  \n",
      " 0   uuid         73650 non-null  object \n",
      " 1   email        73650 non-null  object \n",
      " 2   subject      73640 non-null  object \n",
      " 3   marks        65134 non-null  object \n",
      " 4   marks_final  68350 non-null  object \n",
      " 5   semester     73640 non-null  object \n",
      " 6   year         73640 non-null  object \n",
      " 7   faculty      73650 non-null  object \n",
      " 8   degree       73650 non-null  object \n",
      " 9   group        73650 non-null  object \n",
      " 10  date         73640 non-null  object \n",
      " 11  year_group   73650 non-null  float64\n",
      "dtypes: float64(1), object(11)\n",
      "memory usage: 7.3+ MB\n"
     ]
    }
   ],
   "source": [
    "stud_feb.info()"
   ]
  },
  {
   "cell_type": "code",
   "execution_count": 24,
   "metadata": {},
   "outputs": [
    {
     "data": {
      "text/html": [
       "<div>\n",
       "<style scoped>\n",
       "    .dataframe tbody tr th:only-of-type {\n",
       "        vertical-align: middle;\n",
       "    }\n",
       "\n",
       "    .dataframe tbody tr th {\n",
       "        vertical-align: top;\n",
       "    }\n",
       "\n",
       "    .dataframe thead th {\n",
       "        text-align: right;\n",
       "    }\n",
       "</style>\n",
       "<table border=\"1\" class=\"dataframe\">\n",
       "  <thead>\n",
       "    <tr style=\"text-align: right;\">\n",
       "      <th></th>\n",
       "      <th>uuid</th>\n",
       "      <th>email</th>\n",
       "      <th>subject</th>\n",
       "      <th>marks</th>\n",
       "      <th>marks_final</th>\n",
       "      <th>semester</th>\n",
       "      <th>year</th>\n",
       "      <th>faculty</th>\n",
       "      <th>degree</th>\n",
       "      <th>group</th>\n",
       "      <th>date</th>\n",
       "      <th>year_group</th>\n",
       "    </tr>\n",
       "  </thead>\n",
       "  <tbody>\n",
       "    <tr>\n",
       "      <th>0</th>\n",
       "      <td>7ea6b823-4347-5f8a-8b70-36a92dc8542d</td>\n",
       "      <td>m2010218@edu.misis.ru</td>\n",
       "      <td>Автоматизация технологических процессов</td>\n",
       "      <td>Хорошо</td>\n",
       "      <td>Хорошо</td>\n",
       "      <td>II полугодие</td>\n",
       "      <td>2022 - 2023</td>\n",
       "      <td>Информатика и вычислительная техника</td>\n",
       "      <td>академический бакалавр</td>\n",
       "      <td>БИВТ-20-4</td>\n",
       "      <td>22_23_semestr2</td>\n",
       "      <td>2020.0</td>\n",
       "    </tr>\n",
       "    <tr>\n",
       "      <th>1</th>\n",
       "      <td>7ea6b823-4347-5f8a-8b70-36a92dc8542d</td>\n",
       "      <td>m2010218@edu.misis.ru</td>\n",
       "      <td>Алгоритмы дискретной математики</td>\n",
       "      <td>Хорошо</td>\n",
       "      <td>Хорошо</td>\n",
       "      <td>II полугодие</td>\n",
       "      <td>2021 - 2022</td>\n",
       "      <td>Информатика и вычислительная техника</td>\n",
       "      <td>академический бакалавр</td>\n",
       "      <td>БИВТ-20-4</td>\n",
       "      <td>21_22_semestr2</td>\n",
       "      <td>2020.0</td>\n",
       "    </tr>\n",
       "    <tr>\n",
       "      <th>2</th>\n",
       "      <td>7ea6b823-4347-5f8a-8b70-36a92dc8542d</td>\n",
       "      <td>m2010218@edu.misis.ru</td>\n",
       "      <td>Базы данных</td>\n",
       "      <td>Хорошо</td>\n",
       "      <td>Хорошо</td>\n",
       "      <td>I полугодие</td>\n",
       "      <td>2021 - 2022</td>\n",
       "      <td>Информатика и вычислительная техника</td>\n",
       "      <td>академический бакалавр</td>\n",
       "      <td>БИВТ-20-4</td>\n",
       "      <td>21_22_semestr1</td>\n",
       "      <td>2020.0</td>\n",
       "    </tr>\n",
       "  </tbody>\n",
       "</table>\n",
       "</div>"
      ],
      "text/plain": [
       "                                   uuid                  email  \\\n",
       "0  7ea6b823-4347-5f8a-8b70-36a92dc8542d  m2010218@edu.misis.ru   \n",
       "1  7ea6b823-4347-5f8a-8b70-36a92dc8542d  m2010218@edu.misis.ru   \n",
       "2  7ea6b823-4347-5f8a-8b70-36a92dc8542d  m2010218@edu.misis.ru   \n",
       "\n",
       "                                   subject   marks marks_final      semester  \\\n",
       "0  Автоматизация технологических процессов  Хорошо      Хорошо  II полугодие   \n",
       "1          Алгоритмы дискретной математики  Хорошо      Хорошо  II полугодие   \n",
       "2                              Базы данных  Хорошо      Хорошо   I полугодие   \n",
       "\n",
       "          year                               faculty                  degree  \\\n",
       "0  2022 - 2023  Информатика и вычислительная техника  академический бакалавр   \n",
       "1  2021 - 2022  Информатика и вычислительная техника  академический бакалавр   \n",
       "2  2021 - 2022  Информатика и вычислительная техника  академический бакалавр   \n",
       "\n",
       "       group            date  year_group  \n",
       "0  БИВТ-20-4  22_23_semestr2      2020.0  \n",
       "1  БИВТ-20-4  21_22_semestr2      2020.0  \n",
       "2  БИВТ-20-4  21_22_semestr1      2020.0  "
      ]
     },
     "execution_count": 24,
     "metadata": {},
     "output_type": "execute_result"
    }
   ],
   "source": [
    "stud_feb.head(3)"
   ]
  },
  {
   "cell_type": "markdown",
   "metadata": {},
   "source": [
    "#### унификация оценок неудовлетворительно "
   ]
  },
  {
   "cell_type": "code",
   "execution_count": 25,
   "metadata": {},
   "outputs": [
    {
     "name": "stderr",
     "output_type": "stream",
     "text": [
      "C:\\Users\\User\\AppData\\Local\\Temp\\ipykernel_13448\\1957189399.py:2: FutureWarning: A value is trying to be set on a copy of a DataFrame or Series through chained assignment using an inplace method.\n",
      "The behavior will change in pandas 3.0. This inplace method will never work because the intermediate object on which we are setting values always behaves as a copy.\n",
      "\n",
      "For example, when doing 'df[col].method(value, inplace=True)', try using 'df.method({col: value}, inplace=True)' or df[col] = df[col].method(value) instead, to perform the operation inplace on the original object.\n",
      "\n",
      "\n",
      "  stud_feb['marks'].fillna('неудовлетворительно', inplace=True)\n",
      "C:\\Users\\User\\AppData\\Local\\Temp\\ipykernel_13448\\1957189399.py:4: FutureWarning: A value is trying to be set on a copy of a DataFrame or Series through chained assignment using an inplace method.\n",
      "The behavior will change in pandas 3.0. This inplace method will never work because the intermediate object on which we are setting values always behaves as a copy.\n",
      "\n",
      "For example, when doing 'df[col].method(value, inplace=True)', try using 'df.method({col: value}, inplace=True)' or df[col] = df[col].method(value) instead, to perform the operation inplace on the original object.\n",
      "\n",
      "\n",
      "  stud_feb['marks_final'].fillna('неудовлетворительно', inplace=True)\n"
     ]
    }
   ],
   "source": [
    "# заменяю пропущенные значения в столбце marks значением 'неудовлетворительно'\n",
    "stud_feb['marks'].fillna('неудовлетворительно', inplace=True)\n",
    "# заполняю соответствующие строки в столбце marks_final значением 'неудовлетворительно'\n",
    "stud_feb['marks_final'].fillna('неудовлетворительно', inplace=True)"
   ]
  },
  {
   "cell_type": "code",
   "execution_count": 26,
   "metadata": {},
   "outputs": [],
   "source": [
    "stud_feb['marks_final'] = stud_feb['marks_final'].replace(['Неудовлетворительно', 'не зачтено', 'Не допущен'], 'неудовлетворительно')\n",
    "stud_feb['marks'] = stud_feb['marks'].replace(['Неудовлетворительно', 'не зачтено', 'Не допущен'], 'неудовлетворительно')"
   ]
  },
  {
   "cell_type": "code",
   "execution_count": 27,
   "metadata": {},
   "outputs": [
    {
     "name": "stdout",
     "output_type": "stream",
     "text": [
      "<class 'pandas.core.frame.DataFrame'>\n",
      "Index: 73650 entries, 0 to 349703\n",
      "Data columns (total 12 columns):\n",
      " #   Column       Non-Null Count  Dtype  \n",
      "---  ------       --------------  -----  \n",
      " 0   uuid         73650 non-null  object \n",
      " 1   email        73650 non-null  object \n",
      " 2   subject      73640 non-null  object \n",
      " 3   marks        73650 non-null  object \n",
      " 4   marks_final  73650 non-null  object \n",
      " 5   semester     73640 non-null  object \n",
      " 6   year         73640 non-null  object \n",
      " 7   faculty      73650 non-null  object \n",
      " 8   degree       73650 non-null  object \n",
      " 9   group        73650 non-null  object \n",
      " 10  date         73640 non-null  object \n",
      " 11  year_group   73650 non-null  float64\n",
      "dtypes: float64(1), object(11)\n",
      "memory usage: 7.3+ MB\n"
     ]
    }
   ],
   "source": [
    "stud_feb.info()"
   ]
  },
  {
   "cell_type": "code",
   "execution_count": 28,
   "metadata": {},
   "outputs": [],
   "source": [
    "# студенты у которых пропущена дата предмет\n",
    "data_subject_nuli=stud_feb[stud_feb['date'].isnull()]"
   ]
  },
  {
   "cell_type": "code",
   "execution_count": 29,
   "metadata": {},
   "outputs": [],
   "source": [
    "stud_feb.dropna(inplace=True)"
   ]
  },
  {
   "cell_type": "code",
   "execution_count": 30,
   "metadata": {},
   "outputs": [
    {
     "name": "stdout",
     "output_type": "stream",
     "text": [
      "<class 'pandas.core.frame.DataFrame'>\n",
      "Index: 73640 entries, 0 to 349703\n",
      "Data columns (total 12 columns):\n",
      " #   Column       Non-Null Count  Dtype  \n",
      "---  ------       --------------  -----  \n",
      " 0   uuid         73640 non-null  object \n",
      " 1   email        73640 non-null  object \n",
      " 2   subject      73640 non-null  object \n",
      " 3   marks        73640 non-null  object \n",
      " 4   marks_final  73640 non-null  object \n",
      " 5   semester     73640 non-null  object \n",
      " 6   year         73640 non-null  object \n",
      " 7   faculty      73640 non-null  object \n",
      " 8   degree       73640 non-null  object \n",
      " 9   group        73640 non-null  object \n",
      " 10  date         73640 non-null  object \n",
      " 11  year_group   73640 non-null  float64\n",
      "dtypes: float64(1), object(11)\n",
      "memory usage: 7.3+ MB\n"
     ]
    }
   ],
   "source": [
    "stud_feb.info()"
   ]
  },
  {
   "cell_type": "code",
   "execution_count": null,
   "metadata": {},
   "outputs": [],
   "source": []
  },
  {
   "cell_type": "markdown",
   "metadata": {},
   "source": [
    "#### разоварачиваю все оценки для каждого студента в один ряд "
   ]
  },
  {
   "cell_type": "code",
   "execution_count": 31,
   "metadata": {},
   "outputs": [
    {
     "data": {
      "text/html": [
       "<div>\n",
       "<style scoped>\n",
       "    .dataframe tbody tr th:only-of-type {\n",
       "        vertical-align: middle;\n",
       "    }\n",
       "\n",
       "    .dataframe tbody tr th {\n",
       "        vertical-align: top;\n",
       "    }\n",
       "\n",
       "    .dataframe thead th {\n",
       "        text-align: right;\n",
       "    }\n",
       "</style>\n",
       "<table border=\"1\" class=\"dataframe\">\n",
       "  <thead>\n",
       "    <tr style=\"text-align: right;\">\n",
       "      <th></th>\n",
       "      <th>uuid</th>\n",
       "      <th>email</th>\n",
       "      <th>subject</th>\n",
       "      <th>marks</th>\n",
       "      <th>marks_final</th>\n",
       "      <th>semester</th>\n",
       "      <th>year</th>\n",
       "      <th>faculty</th>\n",
       "      <th>degree</th>\n",
       "      <th>group</th>\n",
       "      <th>date</th>\n",
       "      <th>year_group</th>\n",
       "    </tr>\n",
       "  </thead>\n",
       "  <tbody>\n",
       "    <tr>\n",
       "      <th>0</th>\n",
       "      <td>7ea6b823-4347-5f8a-8b70-36a92dc8542d</td>\n",
       "      <td>m2010218@edu.misis.ru</td>\n",
       "      <td>Автоматизация технологических процессов</td>\n",
       "      <td>Хорошо</td>\n",
       "      <td>Хорошо</td>\n",
       "      <td>II полугодие</td>\n",
       "      <td>2022 - 2023</td>\n",
       "      <td>Информатика и вычислительная техника</td>\n",
       "      <td>академический бакалавр</td>\n",
       "      <td>БИВТ-20-4</td>\n",
       "      <td>22_23_semestr2</td>\n",
       "      <td>2020.0</td>\n",
       "    </tr>\n",
       "    <tr>\n",
       "      <th>1</th>\n",
       "      <td>7ea6b823-4347-5f8a-8b70-36a92dc8542d</td>\n",
       "      <td>m2010218@edu.misis.ru</td>\n",
       "      <td>Алгоритмы дискретной математики</td>\n",
       "      <td>Хорошо</td>\n",
       "      <td>Хорошо</td>\n",
       "      <td>II полугодие</td>\n",
       "      <td>2021 - 2022</td>\n",
       "      <td>Информатика и вычислительная техника</td>\n",
       "      <td>академический бакалавр</td>\n",
       "      <td>БИВТ-20-4</td>\n",
       "      <td>21_22_semestr2</td>\n",
       "      <td>2020.0</td>\n",
       "    </tr>\n",
       "    <tr>\n",
       "      <th>2</th>\n",
       "      <td>7ea6b823-4347-5f8a-8b70-36a92dc8542d</td>\n",
       "      <td>m2010218@edu.misis.ru</td>\n",
       "      <td>Базы данных</td>\n",
       "      <td>Хорошо</td>\n",
       "      <td>Хорошо</td>\n",
       "      <td>I полугодие</td>\n",
       "      <td>2021 - 2022</td>\n",
       "      <td>Информатика и вычислительная техника</td>\n",
       "      <td>академический бакалавр</td>\n",
       "      <td>БИВТ-20-4</td>\n",
       "      <td>21_22_semestr1</td>\n",
       "      <td>2020.0</td>\n",
       "    </tr>\n",
       "    <tr>\n",
       "      <th>3</th>\n",
       "      <td>7ea6b823-4347-5f8a-8b70-36a92dc8542d</td>\n",
       "      <td>m2010218@edu.misis.ru</td>\n",
       "      <td>Безопасность жизнедеятельности</td>\n",
       "      <td>неудовлетворительно</td>\n",
       "      <td>зачтено</td>\n",
       "      <td>II полугодие</td>\n",
       "      <td>2021 - 2022</td>\n",
       "      <td>Информатика и вычислительная техника</td>\n",
       "      <td>академический бакалавр</td>\n",
       "      <td>БИВТ-20-4</td>\n",
       "      <td>21_22_semestr2</td>\n",
       "      <td>2020.0</td>\n",
       "    </tr>\n",
       "    <tr>\n",
       "      <th>4</th>\n",
       "      <td>7ea6b823-4347-5f8a-8b70-36a92dc8542d</td>\n",
       "      <td>m2010218@edu.misis.ru</td>\n",
       "      <td>Инженерная компьютерная графика</td>\n",
       "      <td>Хорошо</td>\n",
       "      <td>Хорошо</td>\n",
       "      <td>I полугодие</td>\n",
       "      <td>2020 - 2021</td>\n",
       "      <td>Информатика и вычислительная техника</td>\n",
       "      <td>академический бакалавр</td>\n",
       "      <td>БИВТ-20-4</td>\n",
       "      <td>20_21_semestr1</td>\n",
       "      <td>2020.0</td>\n",
       "    </tr>\n",
       "  </tbody>\n",
       "</table>\n",
       "</div>"
      ],
      "text/plain": [
       "                                   uuid                  email  \\\n",
       "0  7ea6b823-4347-5f8a-8b70-36a92dc8542d  m2010218@edu.misis.ru   \n",
       "1  7ea6b823-4347-5f8a-8b70-36a92dc8542d  m2010218@edu.misis.ru   \n",
       "2  7ea6b823-4347-5f8a-8b70-36a92dc8542d  m2010218@edu.misis.ru   \n",
       "3  7ea6b823-4347-5f8a-8b70-36a92dc8542d  m2010218@edu.misis.ru   \n",
       "4  7ea6b823-4347-5f8a-8b70-36a92dc8542d  m2010218@edu.misis.ru   \n",
       "\n",
       "                                   subject                marks marks_final  \\\n",
       "0  Автоматизация технологических процессов               Хорошо      Хорошо   \n",
       "1          Алгоритмы дискретной математики               Хорошо      Хорошо   \n",
       "2                              Базы данных               Хорошо      Хорошо   \n",
       "3           Безопасность жизнедеятельности  неудовлетворительно     зачтено   \n",
       "4          Инженерная компьютерная графика               Хорошо      Хорошо   \n",
       "\n",
       "       semester         year                               faculty  \\\n",
       "0  II полугодие  2022 - 2023  Информатика и вычислительная техника   \n",
       "1  II полугодие  2021 - 2022  Информатика и вычислительная техника   \n",
       "2   I полугодие  2021 - 2022  Информатика и вычислительная техника   \n",
       "3  II полугодие  2021 - 2022  Информатика и вычислительная техника   \n",
       "4   I полугодие  2020 - 2021  Информатика и вычислительная техника   \n",
       "\n",
       "                   degree      group            date  year_group  \n",
       "0  академический бакалавр  БИВТ-20-4  22_23_semestr2      2020.0  \n",
       "1  академический бакалавр  БИВТ-20-4  21_22_semestr2      2020.0  \n",
       "2  академический бакалавр  БИВТ-20-4  21_22_semestr1      2020.0  \n",
       "3  академический бакалавр  БИВТ-20-4  21_22_semestr2      2020.0  \n",
       "4  академический бакалавр  БИВТ-20-4  20_21_semestr1      2020.0  "
      ]
     },
     "execution_count": 31,
     "metadata": {},
     "output_type": "execute_result"
    }
   ],
   "source": [
    "# смотрю динамику пересдач \n",
    "stud_feb.head()"
   ]
  },
  {
   "cell_type": "code",
   "execution_count": null,
   "metadata": {},
   "outputs": [],
   "source": []
  },
  {
   "cell_type": "code",
   "execution_count": 32,
   "metadata": {},
   "outputs": [],
   "source": [
    "pivot_table = pd.pivot_table(stud_feb, index='uuid', columns='date', values='marks', aggfunc=lambda x: ', '.join(x)).reset_index()"
   ]
  },
  {
   "cell_type": "code",
   "execution_count": 33,
   "metadata": {},
   "outputs": [],
   "source": [
    "# Преобразуем ячейки в списки\n",
    "for column in pivot_table.columns[1:]:\n",
    "    pivot_table[column] = pivot_table[column].apply(lambda x: x.split(', ') if isinstance(x, str) else [])"
   ]
  },
  {
   "cell_type": "code",
   "execution_count": 34,
   "metadata": {},
   "outputs": [],
   "source": [
    "# Создаем DataFrame для каждой оценки и объединяем их\n",
    "dfs = []\n",
    "for column in pivot_table.columns[1:]:\n",
    "    for idx, grades in enumerate(pivot_table[column]):\n",
    "        expanded_df = pd.DataFrame({\n",
    "            'uuid': [pivot_table.at[idx, 'uuid']] * len(grades),\n",
    "            'date': [column] * len(grades),\n",
    "            'grade': grades\n",
    "        })\n",
    "        dfs.append(expanded_df)\n",
    "\n",
    "result_df = pd.concat(dfs, ignore_index=True)"
   ]
  },
  {
   "cell_type": "code",
   "execution_count": 35,
   "metadata": {},
   "outputs": [
    {
     "name": "stdout",
     "output_type": "stream",
     "text": [
      "<class 'pandas.core.frame.DataFrame'>\n",
      "RangeIndex: 73640 entries, 0 to 73639\n",
      "Data columns (total 3 columns):\n",
      " #   Column  Non-Null Count  Dtype \n",
      "---  ------  --------------  ----- \n",
      " 0   uuid    73640 non-null  object\n",
      " 1   date    73640 non-null  object\n",
      " 2   grade   73640 non-null  object\n",
      "dtypes: object(3)\n",
      "memory usage: 1.7+ MB\n"
     ]
    }
   ],
   "source": [
    "result_df.info()"
   ]
  },
  {
   "cell_type": "code",
   "execution_count": null,
   "metadata": {},
   "outputs": [],
   "source": []
  },
  {
   "cell_type": "code",
   "execution_count": 36,
   "metadata": {},
   "outputs": [],
   "source": [
    "# считаю количество двоек для каждого студента \n",
    "bad_marks_count = result_df[result_df['grade'] == 'неудовлетворительно'].groupby('uuid').size()\n",
    "\n",
    "result_df['bad_marks'] = result_df['uuid'].map(bad_marks_count)"
   ]
  },
  {
   "cell_type": "code",
   "execution_count": 37,
   "metadata": {},
   "outputs": [],
   "source": [
    "pivot_table_final= pd.pivot_table(stud_feb, index='uuid', columns='date', values='marks_final', aggfunc=lambda x: ', '.join(x)).reset_index()\n",
    "# Преобразуем ячейки в списки\n",
    "for column in pivot_table_final.columns[1:]:\n",
    "    pivot_table_final[column] = pivot_table_final[column].apply(lambda x: x.split(', ') if isinstance(x, str) else [])\n",
    "# Создаем DataFrame для каждой оценки и объединяем их\n",
    "dfsf = []\n",
    "for column in pivot_table_final.columns[1:]:\n",
    "    for idx, grades in enumerate(pivot_table_final[column]):\n",
    "        expanded_dff = pd.DataFrame({\n",
    "            'uuid': [pivot_table_final.at[idx, 'uuid']] * len(grades),\n",
    "            'date': [column] * len(grades),\n",
    "            'grade': grades\n",
    "        })\n",
    "        dfsf.append(expanded_dff)\n",
    "\n",
    "result_dff = pd.concat(dfsf, ignore_index=True)\n",
    "\n",
    "# считаю количество двоек для каждого студента \n",
    "final_marks_count = result_dff[result_dff['grade'] == 'неудовлетворительно'].groupby('uuid').size()\n",
    "\n",
    "result_dff['bad_marks_final'] = result_dff['uuid'].map(final_marks_count)"
   ]
  },
  {
   "cell_type": "code",
   "execution_count": 38,
   "metadata": {},
   "outputs": [
    {
     "name": "stdout",
     "output_type": "stream",
     "text": [
      "<class 'pandas.core.frame.DataFrame'>\n",
      "RangeIndex: 73640 entries, 0 to 73639\n",
      "Data columns (total 4 columns):\n",
      " #   Column           Non-Null Count  Dtype  \n",
      "---  ------           --------------  -----  \n",
      " 0   uuid             73640 non-null  object \n",
      " 1   date             73640 non-null  object \n",
      " 2   grade            73640 non-null  object \n",
      " 3   bad_marks_final  58469 non-null  float64\n",
      "dtypes: float64(1), object(3)\n",
      "memory usage: 2.2+ MB\n"
     ]
    }
   ],
   "source": [
    "result_dff.info()"
   ]
  },
  {
   "cell_type": "code",
   "execution_count": 39,
   "metadata": {},
   "outputs": [
    {
     "data": {
      "text/html": [
       "<div>\n",
       "<style scoped>\n",
       "    .dataframe tbody tr th:only-of-type {\n",
       "        vertical-align: middle;\n",
       "    }\n",
       "\n",
       "    .dataframe tbody tr th {\n",
       "        vertical-align: top;\n",
       "    }\n",
       "\n",
       "    .dataframe thead th {\n",
       "        text-align: right;\n",
       "    }\n",
       "</style>\n",
       "<table border=\"1\" class=\"dataframe\">\n",
       "  <thead>\n",
       "    <tr style=\"text-align: right;\">\n",
       "      <th></th>\n",
       "      <th>uuid</th>\n",
       "      <th>date</th>\n",
       "      <th>grade</th>\n",
       "      <th>bad_marks_final</th>\n",
       "    </tr>\n",
       "  </thead>\n",
       "  <tbody>\n",
       "    <tr>\n",
       "      <th>0</th>\n",
       "      <td>00bcd658-be72-55ce-a55d-922033d24e8d</td>\n",
       "      <td>20_21_semestr1</td>\n",
       "      <td>Удовлетворительно</td>\n",
       "      <td>7.0</td>\n",
       "    </tr>\n",
       "    <tr>\n",
       "      <th>1</th>\n",
       "      <td>00bcd658-be72-55ce-a55d-922033d24e8d</td>\n",
       "      <td>20_21_semestr1</td>\n",
       "      <td>Хорошо</td>\n",
       "      <td>7.0</td>\n",
       "    </tr>\n",
       "    <tr>\n",
       "      <th>2</th>\n",
       "      <td>00bcd658-be72-55ce-a55d-922033d24e8d</td>\n",
       "      <td>20_21_semestr1</td>\n",
       "      <td>зачтено</td>\n",
       "      <td>7.0</td>\n",
       "    </tr>\n",
       "    <tr>\n",
       "      <th>3</th>\n",
       "      <td>00bcd658-be72-55ce-a55d-922033d24e8d</td>\n",
       "      <td>20_21_semestr1</td>\n",
       "      <td>зачтено</td>\n",
       "      <td>7.0</td>\n",
       "    </tr>\n",
       "    <tr>\n",
       "      <th>4</th>\n",
       "      <td>00bcd658-be72-55ce-a55d-922033d24e8d</td>\n",
       "      <td>20_21_semestr1</td>\n",
       "      <td>зачтено</td>\n",
       "      <td>7.0</td>\n",
       "    </tr>\n",
       "    <tr>\n",
       "      <th>5</th>\n",
       "      <td>00bcd658-be72-55ce-a55d-922033d24e8d</td>\n",
       "      <td>20_21_semestr1</td>\n",
       "      <td>зачтено</td>\n",
       "      <td>7.0</td>\n",
       "    </tr>\n",
       "    <tr>\n",
       "      <th>6</th>\n",
       "      <td>00bcd658-be72-55ce-a55d-922033d24e8d</td>\n",
       "      <td>20_21_semestr1</td>\n",
       "      <td>Удовлетворительно</td>\n",
       "      <td>7.0</td>\n",
       "    </tr>\n",
       "    <tr>\n",
       "      <th>7</th>\n",
       "      <td>00bcd658-be72-55ce-a55d-922033d24e8d</td>\n",
       "      <td>20_21_semestr1</td>\n",
       "      <td>Хорошо</td>\n",
       "      <td>7.0</td>\n",
       "    </tr>\n",
       "    <tr>\n",
       "      <th>8</th>\n",
       "      <td>00c4a339-6177-522d-8638-ce53266ae980</td>\n",
       "      <td>20_21_semestr1</td>\n",
       "      <td>Хорошо</td>\n",
       "      <td>NaN</td>\n",
       "    </tr>\n",
       "    <tr>\n",
       "      <th>9</th>\n",
       "      <td>00c4a339-6177-522d-8638-ce53266ae980</td>\n",
       "      <td>20_21_semestr1</td>\n",
       "      <td>Отлично</td>\n",
       "      <td>NaN</td>\n",
       "    </tr>\n",
       "    <tr>\n",
       "      <th>10</th>\n",
       "      <td>00c4a339-6177-522d-8638-ce53266ae980</td>\n",
       "      <td>20_21_semestr1</td>\n",
       "      <td>зачтено</td>\n",
       "      <td>NaN</td>\n",
       "    </tr>\n",
       "    <tr>\n",
       "      <th>11</th>\n",
       "      <td>00c4a339-6177-522d-8638-ce53266ae980</td>\n",
       "      <td>20_21_semestr1</td>\n",
       "      <td>зачтено</td>\n",
       "      <td>NaN</td>\n",
       "    </tr>\n",
       "    <tr>\n",
       "      <th>12</th>\n",
       "      <td>00c4a339-6177-522d-8638-ce53266ae980</td>\n",
       "      <td>20_21_semestr1</td>\n",
       "      <td>Удовлетворительно</td>\n",
       "      <td>NaN</td>\n",
       "    </tr>\n",
       "    <tr>\n",
       "      <th>13</th>\n",
       "      <td>00c4a339-6177-522d-8638-ce53266ae980</td>\n",
       "      <td>20_21_semestr1</td>\n",
       "      <td>Отлично</td>\n",
       "      <td>NaN</td>\n",
       "    </tr>\n",
       "    <tr>\n",
       "      <th>14</th>\n",
       "      <td>0118adcd-86a0-5556-aea3-19a1df4af3a0</td>\n",
       "      <td>20_21_semestr1</td>\n",
       "      <td>Хорошо</td>\n",
       "      <td>32.0</td>\n",
       "    </tr>\n",
       "  </tbody>\n",
       "</table>\n",
       "</div>"
      ],
      "text/plain": [
       "                                    uuid            date              grade  \\\n",
       "0   00bcd658-be72-55ce-a55d-922033d24e8d  20_21_semestr1  Удовлетворительно   \n",
       "1   00bcd658-be72-55ce-a55d-922033d24e8d  20_21_semestr1             Хорошо   \n",
       "2   00bcd658-be72-55ce-a55d-922033d24e8d  20_21_semestr1            зачтено   \n",
       "3   00bcd658-be72-55ce-a55d-922033d24e8d  20_21_semestr1            зачтено   \n",
       "4   00bcd658-be72-55ce-a55d-922033d24e8d  20_21_semestr1            зачтено   \n",
       "5   00bcd658-be72-55ce-a55d-922033d24e8d  20_21_semestr1            зачтено   \n",
       "6   00bcd658-be72-55ce-a55d-922033d24e8d  20_21_semestr1  Удовлетворительно   \n",
       "7   00bcd658-be72-55ce-a55d-922033d24e8d  20_21_semestr1             Хорошо   \n",
       "8   00c4a339-6177-522d-8638-ce53266ae980  20_21_semestr1             Хорошо   \n",
       "9   00c4a339-6177-522d-8638-ce53266ae980  20_21_semestr1            Отлично   \n",
       "10  00c4a339-6177-522d-8638-ce53266ae980  20_21_semestr1            зачтено   \n",
       "11  00c4a339-6177-522d-8638-ce53266ae980  20_21_semestr1            зачтено   \n",
       "12  00c4a339-6177-522d-8638-ce53266ae980  20_21_semestr1  Удовлетворительно   \n",
       "13  00c4a339-6177-522d-8638-ce53266ae980  20_21_semestr1            Отлично   \n",
       "14  0118adcd-86a0-5556-aea3-19a1df4af3a0  20_21_semestr1             Хорошо   \n",
       "\n",
       "    bad_marks_final  \n",
       "0               7.0  \n",
       "1               7.0  \n",
       "2               7.0  \n",
       "3               7.0  \n",
       "4               7.0  \n",
       "5               7.0  \n",
       "6               7.0  \n",
       "7               7.0  \n",
       "8               NaN  \n",
       "9               NaN  \n",
       "10              NaN  \n",
       "11              NaN  \n",
       "12              NaN  \n",
       "13              NaN  \n",
       "14             32.0  "
      ]
     },
     "execution_count": 39,
     "metadata": {},
     "output_type": "execute_result"
    }
   ],
   "source": [
    "result_dff.head(15)"
   ]
  },
  {
   "cell_type": "code",
   "execution_count": 40,
   "metadata": {},
   "outputs": [],
   "source": [
    "result_df_full=result_df.fillna(0)\n",
    "result_dff_full=result_dff.fillna(0)\n",
    "\n",
    "result_df_full=result_df_full.drop_duplicates(subset='uuid')\n",
    "result_dff_full=result_dff_full.drop_duplicates(subset='uuid')"
   ]
  },
  {
   "cell_type": "code",
   "execution_count": 41,
   "metadata": {},
   "outputs": [
    {
     "data": {
      "text/html": [
       "<div>\n",
       "<style scoped>\n",
       "    .dataframe tbody tr th:only-of-type {\n",
       "        vertical-align: middle;\n",
       "    }\n",
       "\n",
       "    .dataframe tbody tr th {\n",
       "        vertical-align: top;\n",
       "    }\n",
       "\n",
       "    .dataframe thead th {\n",
       "        text-align: right;\n",
       "    }\n",
       "</style>\n",
       "<table border=\"1\" class=\"dataframe\">\n",
       "  <thead>\n",
       "    <tr style=\"text-align: right;\">\n",
       "      <th></th>\n",
       "      <th>uuid</th>\n",
       "      <th>date</th>\n",
       "      <th>grade</th>\n",
       "      <th>bad_marks</th>\n",
       "    </tr>\n",
       "  </thead>\n",
       "  <tbody>\n",
       "    <tr>\n",
       "      <th>0</th>\n",
       "      <td>00bcd658-be72-55ce-a55d-922033d24e8d</td>\n",
       "      <td>20_21_semestr1</td>\n",
       "      <td>неудовлетворительно</td>\n",
       "      <td>18.0</td>\n",
       "    </tr>\n",
       "    <tr>\n",
       "      <th>8</th>\n",
       "      <td>00c4a339-6177-522d-8638-ce53266ae980</td>\n",
       "      <td>20_21_semestr1</td>\n",
       "      <td>Хорошо</td>\n",
       "      <td>4.0</td>\n",
       "    </tr>\n",
       "    <tr>\n",
       "      <th>14</th>\n",
       "      <td>0118adcd-86a0-5556-aea3-19a1df4af3a0</td>\n",
       "      <td>20_21_semestr1</td>\n",
       "      <td>Хорошо</td>\n",
       "      <td>36.0</td>\n",
       "    </tr>\n",
       "    <tr>\n",
       "      <th>20</th>\n",
       "      <td>01699bac-b70b-5746-a02e-79ed75425f93</td>\n",
       "      <td>20_21_semestr1</td>\n",
       "      <td>Неявка</td>\n",
       "      <td>19.0</td>\n",
       "    </tr>\n",
       "    <tr>\n",
       "      <th>26</th>\n",
       "      <td>01ee572a-44d0-53d9-a62e-c7ce700a7172</td>\n",
       "      <td>20_21_semestr1</td>\n",
       "      <td>неудовлетворительно</td>\n",
       "      <td>15.0</td>\n",
       "    </tr>\n",
       "  </tbody>\n",
       "</table>\n",
       "</div>"
      ],
      "text/plain": [
       "                                    uuid            date                grade  \\\n",
       "0   00bcd658-be72-55ce-a55d-922033d24e8d  20_21_semestr1  неудовлетворительно   \n",
       "8   00c4a339-6177-522d-8638-ce53266ae980  20_21_semestr1               Хорошо   \n",
       "14  0118adcd-86a0-5556-aea3-19a1df4af3a0  20_21_semestr1               Хорошо   \n",
       "20  01699bac-b70b-5746-a02e-79ed75425f93  20_21_semestr1               Неявка   \n",
       "26  01ee572a-44d0-53d9-a62e-c7ce700a7172  20_21_semestr1  неудовлетворительно   \n",
       "\n",
       "    bad_marks  \n",
       "0        18.0  \n",
       "8         4.0  \n",
       "14       36.0  \n",
       "20       19.0  \n",
       "26       15.0  "
      ]
     },
     "execution_count": 41,
     "metadata": {},
     "output_type": "execute_result"
    }
   ],
   "source": [
    "result_df_full.head()"
   ]
  },
  {
   "cell_type": "code",
   "execution_count": 42,
   "metadata": {},
   "outputs": [
    {
     "data": {
      "text/html": [
       "<div>\n",
       "<style scoped>\n",
       "    .dataframe tbody tr th:only-of-type {\n",
       "        vertical-align: middle;\n",
       "    }\n",
       "\n",
       "    .dataframe tbody tr th {\n",
       "        vertical-align: top;\n",
       "    }\n",
       "\n",
       "    .dataframe thead th {\n",
       "        text-align: right;\n",
       "    }\n",
       "</style>\n",
       "<table border=\"1\" class=\"dataframe\">\n",
       "  <thead>\n",
       "    <tr style=\"text-align: right;\">\n",
       "      <th></th>\n",
       "      <th>uuid</th>\n",
       "      <th>date</th>\n",
       "      <th>grade</th>\n",
       "      <th>bad_marks_final</th>\n",
       "    </tr>\n",
       "  </thead>\n",
       "  <tbody>\n",
       "    <tr>\n",
       "      <th>0</th>\n",
       "      <td>00bcd658-be72-55ce-a55d-922033d24e8d</td>\n",
       "      <td>20_21_semestr1</td>\n",
       "      <td>Удовлетворительно</td>\n",
       "      <td>7.0</td>\n",
       "    </tr>\n",
       "    <tr>\n",
       "      <th>8</th>\n",
       "      <td>00c4a339-6177-522d-8638-ce53266ae980</td>\n",
       "      <td>20_21_semestr1</td>\n",
       "      <td>Хорошо</td>\n",
       "      <td>0.0</td>\n",
       "    </tr>\n",
       "    <tr>\n",
       "      <th>14</th>\n",
       "      <td>0118adcd-86a0-5556-aea3-19a1df4af3a0</td>\n",
       "      <td>20_21_semestr1</td>\n",
       "      <td>Хорошо</td>\n",
       "      <td>32.0</td>\n",
       "    </tr>\n",
       "    <tr>\n",
       "      <th>20</th>\n",
       "      <td>01699bac-b70b-5746-a02e-79ed75425f93</td>\n",
       "      <td>20_21_semestr1</td>\n",
       "      <td>Удовлетворительно</td>\n",
       "      <td>1.0</td>\n",
       "    </tr>\n",
       "    <tr>\n",
       "      <th>26</th>\n",
       "      <td>01ee572a-44d0-53d9-a62e-c7ce700a7172</td>\n",
       "      <td>20_21_semestr1</td>\n",
       "      <td>Удовлетворительно</td>\n",
       "      <td>7.0</td>\n",
       "    </tr>\n",
       "  </tbody>\n",
       "</table>\n",
       "</div>"
      ],
      "text/plain": [
       "                                    uuid            date              grade  \\\n",
       "0   00bcd658-be72-55ce-a55d-922033d24e8d  20_21_semestr1  Удовлетворительно   \n",
       "8   00c4a339-6177-522d-8638-ce53266ae980  20_21_semestr1             Хорошо   \n",
       "14  0118adcd-86a0-5556-aea3-19a1df4af3a0  20_21_semestr1             Хорошо   \n",
       "20  01699bac-b70b-5746-a02e-79ed75425f93  20_21_semestr1  Удовлетворительно   \n",
       "26  01ee572a-44d0-53d9-a62e-c7ce700a7172  20_21_semestr1  Удовлетворительно   \n",
       "\n",
       "    bad_marks_final  \n",
       "0               7.0  \n",
       "8               0.0  \n",
       "14             32.0  \n",
       "20              1.0  \n",
       "26              7.0  "
      ]
     },
     "execution_count": 42,
     "metadata": {},
     "output_type": "execute_result"
    }
   ],
   "source": [
    "result_dff_full.head()"
   ]
  },
  {
   "cell_type": "code",
   "execution_count": 43,
   "metadata": {},
   "outputs": [],
   "source": [
    "# объединяю bad и bad_final "
   ]
  },
  {
   "cell_type": "code",
   "execution_count": 44,
   "metadata": {},
   "outputs": [],
   "source": [
    "nice_cases=pd.merge(result_df_full[['uuid','bad_marks']],result_dff_full[['uuid','bad_marks_final']],how='inner',on='uuid')"
   ]
  },
  {
   "cell_type": "code",
   "execution_count": 45,
   "metadata": {},
   "outputs": [],
   "source": [
    "nice_cases['nice_cases'] = nice_cases['bad_marks'] - nice_cases['bad_marks_final']"
   ]
  },
  {
   "cell_type": "code",
   "execution_count": 46,
   "metadata": {},
   "outputs": [
    {
     "data": {
      "text/html": [
       "<div>\n",
       "<style scoped>\n",
       "    .dataframe tbody tr th:only-of-type {\n",
       "        vertical-align: middle;\n",
       "    }\n",
       "\n",
       "    .dataframe tbody tr th {\n",
       "        vertical-align: top;\n",
       "    }\n",
       "\n",
       "    .dataframe thead th {\n",
       "        text-align: right;\n",
       "    }\n",
       "</style>\n",
       "<table border=\"1\" class=\"dataframe\">\n",
       "  <thead>\n",
       "    <tr style=\"text-align: right;\">\n",
       "      <th></th>\n",
       "      <th>uuid</th>\n",
       "      <th>bad_marks</th>\n",
       "      <th>bad_marks_final</th>\n",
       "      <th>nice_cases</th>\n",
       "      <th>failds_corrected_percent</th>\n",
       "    </tr>\n",
       "  </thead>\n",
       "  <tbody>\n",
       "    <tr>\n",
       "      <th>0</th>\n",
       "      <td>00bcd658-be72-55ce-a55d-922033d24e8d</td>\n",
       "      <td>18.0</td>\n",
       "      <td>7.0</td>\n",
       "      <td>11.0</td>\n",
       "      <td>61.11</td>\n",
       "    </tr>\n",
       "    <tr>\n",
       "      <th>1</th>\n",
       "      <td>00c4a339-6177-522d-8638-ce53266ae980</td>\n",
       "      <td>4.0</td>\n",
       "      <td>0.0</td>\n",
       "      <td>4.0</td>\n",
       "      <td>100.00</td>\n",
       "    </tr>\n",
       "    <tr>\n",
       "      <th>2</th>\n",
       "      <td>0118adcd-86a0-5556-aea3-19a1df4af3a0</td>\n",
       "      <td>36.0</td>\n",
       "      <td>32.0</td>\n",
       "      <td>4.0</td>\n",
       "      <td>11.11</td>\n",
       "    </tr>\n",
       "    <tr>\n",
       "      <th>3</th>\n",
       "      <td>01699bac-b70b-5746-a02e-79ed75425f93</td>\n",
       "      <td>19.0</td>\n",
       "      <td>1.0</td>\n",
       "      <td>18.0</td>\n",
       "      <td>94.74</td>\n",
       "    </tr>\n",
       "    <tr>\n",
       "      <th>4</th>\n",
       "      <td>01ee572a-44d0-53d9-a62e-c7ce700a7172</td>\n",
       "      <td>15.0</td>\n",
       "      <td>7.0</td>\n",
       "      <td>8.0</td>\n",
       "      <td>53.33</td>\n",
       "    </tr>\n",
       "  </tbody>\n",
       "</table>\n",
       "</div>"
      ],
      "text/plain": [
       "                                   uuid  bad_marks  bad_marks_final  \\\n",
       "0  00bcd658-be72-55ce-a55d-922033d24e8d       18.0              7.0   \n",
       "1  00c4a339-6177-522d-8638-ce53266ae980        4.0              0.0   \n",
       "2  0118adcd-86a0-5556-aea3-19a1df4af3a0       36.0             32.0   \n",
       "3  01699bac-b70b-5746-a02e-79ed75425f93       19.0              1.0   \n",
       "4  01ee572a-44d0-53d9-a62e-c7ce700a7172       15.0              7.0   \n",
       "\n",
       "   nice_cases  failds_corrected_percent  \n",
       "0        11.0                     61.11  \n",
       "1         4.0                    100.00  \n",
       "2         4.0                     11.11  \n",
       "3        18.0                     94.74  \n",
       "4         8.0                     53.33  "
      ]
     },
     "execution_count": 46,
     "metadata": {},
     "output_type": "execute_result"
    }
   ],
   "source": [
    "nice_cases['failds_corrected_percent']=round(nice_cases['nice_cases']/nice_cases['bad_marks']*100,2)\n",
    "nice_cases.head()"
   ]
  },
  {
   "cell_type": "code",
   "execution_count": null,
   "metadata": {},
   "outputs": [],
   "source": []
  },
  {
   "cell_type": "code",
   "execution_count": 47,
   "metadata": {},
   "outputs": [
    {
     "name": "stdout",
     "output_type": "stream",
     "text": [
      "<class 'pandas.core.frame.DataFrame'>\n",
      "Index: 1096 entries, 0 to 1313\n",
      "Data columns (total 5 columns):\n",
      " #   Column                    Non-Null Count  Dtype  \n",
      "---  ------                    --------------  -----  \n",
      " 0   uuid                      1096 non-null   object \n",
      " 1   bad_marks                 1096 non-null   float64\n",
      " 2   bad_marks_final           1096 non-null   float64\n",
      " 3   nice_cases                1096 non-null   float64\n",
      " 4   failds_corrected_percent  1096 non-null   float64\n",
      "dtypes: float64(4), object(1)\n",
      "memory usage: 51.4+ KB\n"
     ]
    }
   ],
   "source": [
    "count_nice=nice_cases.query('nice_cases > 0')\n",
    "count_nice.info()"
   ]
  },
  {
   "cell_type": "code",
   "execution_count": 48,
   "metadata": {},
   "outputs": [
    {
     "data": {
      "text/html": [
       "<div>\n",
       "<style scoped>\n",
       "    .dataframe tbody tr th:only-of-type {\n",
       "        vertical-align: middle;\n",
       "    }\n",
       "\n",
       "    .dataframe tbody tr th {\n",
       "        vertical-align: top;\n",
       "    }\n",
       "\n",
       "    .dataframe thead th {\n",
       "        text-align: right;\n",
       "    }\n",
       "</style>\n",
       "<table border=\"1\" class=\"dataframe\">\n",
       "  <thead>\n",
       "    <tr style=\"text-align: right;\">\n",
       "      <th></th>\n",
       "      <th>bad_marks</th>\n",
       "      <th>bad_marks_final</th>\n",
       "      <th>nice_cases</th>\n",
       "      <th>failds_corrected_percent</th>\n",
       "    </tr>\n",
       "  </thead>\n",
       "  <tbody>\n",
       "    <tr>\n",
       "      <th>count</th>\n",
       "      <td>1381.000000</td>\n",
       "      <td>1381.000000</td>\n",
       "      <td>1381.000000</td>\n",
       "      <td>1253.000000</td>\n",
       "    </tr>\n",
       "    <tr>\n",
       "      <th>mean</th>\n",
       "      <td>10.978277</td>\n",
       "      <td>5.151340</td>\n",
       "      <td>5.826937</td>\n",
       "      <td>55.667446</td>\n",
       "    </tr>\n",
       "    <tr>\n",
       "      <th>std</th>\n",
       "      <td>10.649194</td>\n",
       "      <td>7.138758</td>\n",
       "      <td>7.356238</td>\n",
       "      <td>34.294647</td>\n",
       "    </tr>\n",
       "    <tr>\n",
       "      <th>min</th>\n",
       "      <td>0.000000</td>\n",
       "      <td>0.000000</td>\n",
       "      <td>-10.000000</td>\n",
       "      <td>-50.000000</td>\n",
       "    </tr>\n",
       "    <tr>\n",
       "      <th>25%</th>\n",
       "      <td>3.000000</td>\n",
       "      <td>1.000000</td>\n",
       "      <td>1.000000</td>\n",
       "      <td>30.000000</td>\n",
       "    </tr>\n",
       "    <tr>\n",
       "      <th>50%</th>\n",
       "      <td>8.000000</td>\n",
       "      <td>2.000000</td>\n",
       "      <td>3.000000</td>\n",
       "      <td>58.140000</td>\n",
       "    </tr>\n",
       "    <tr>\n",
       "      <th>75%</th>\n",
       "      <td>16.000000</td>\n",
       "      <td>7.000000</td>\n",
       "      <td>8.000000</td>\n",
       "      <td>85.710000</td>\n",
       "    </tr>\n",
       "    <tr>\n",
       "      <th>max</th>\n",
       "      <td>65.000000</td>\n",
       "      <td>50.000000</td>\n",
       "      <td>45.000000</td>\n",
       "      <td>100.000000</td>\n",
       "    </tr>\n",
       "  </tbody>\n",
       "</table>\n",
       "</div>"
      ],
      "text/plain": [
       "         bad_marks  bad_marks_final   nice_cases  failds_corrected_percent\n",
       "count  1381.000000      1381.000000  1381.000000               1253.000000\n",
       "mean     10.978277         5.151340     5.826937                 55.667446\n",
       "std      10.649194         7.138758     7.356238                 34.294647\n",
       "min       0.000000         0.000000   -10.000000                -50.000000\n",
       "25%       3.000000         1.000000     1.000000                 30.000000\n",
       "50%       8.000000         2.000000     3.000000                 58.140000\n",
       "75%      16.000000         7.000000     8.000000                 85.710000\n",
       "max      65.000000        50.000000    45.000000                100.000000"
      ]
     },
     "execution_count": 48,
     "metadata": {},
     "output_type": "execute_result"
    }
   ],
   "source": [
    "# посмотреть группу тех,кто испрвляет больше n % двоек \n",
    "nice_cases.describe()"
   ]
  },
  {
   "cell_type": "code",
   "execution_count": null,
   "metadata": {},
   "outputs": [],
   "source": []
  },
  {
   "cell_type": "markdown",
   "metadata": {},
   "source": [
    "### общая статистика по студентам бакалврам, обучающимся сейчас на 4 курсе "
   ]
  },
  {
   "cell_type": "code",
   "execution_count": 57,
   "metadata": {},
   "outputs": [
    {
     "name": "stdout",
     "output_type": "stream",
     "text": [
      "всего студентов 1381\n",
      "все двоечники 1253\n",
      "не двоечники 128\n",
      "общее количество двоек 15161.0\n",
      "общее количество неисправленных  двоек 7114.0\n",
      "процент неисправленных двоек от всех двоек  46.92\n",
      "процент исправленных двоек от всех двоек  53.08\n",
      "количество двоечников, которые имеют хоть одну неисправленную двойку 1039\n",
      "общее количество неисправленных двоек  7114.0\n",
      "количество двоечников, которые имеют хоть одну исправленную двойку 1096\n",
      "общее количество исправленных двоек  8047.0\n"
     ]
    }
   ],
   "source": [
    "# всего студентов в анализе \n",
    "print('всего студентов', len(stud_feb['uuid'].unique()))\n",
    "# все двоечники\n",
    "print('все двоечники',nice_cases.query('bad_marks != 0').shape[0])\n",
    "# не двоечники\n",
    "print('не двоечники',nice_cases.query('bad_marks == 0').shape[0])\n",
    "# общее количество двоек\n",
    "print('общее количество двоек',nice_cases['bad_marks'].sum())\n",
    "# общее количество неисправленных  двоек\n",
    "print('общее количество неисправленных  двоек',nice_cases['bad_marks_final'].sum())\n",
    "# процент неисправленных двоек от всех двоек \n",
    "print('процент неисправленных двоек от всех двоек ',round(nice_cases['bad_marks_final'].sum()/nice_cases['bad_marks'].sum()*100,2))\n",
    "\n",
    "# процент исправленных двоек от всех двоек \n",
    "print('процент исправленных двоек от всех двоек ',round(nice_cases['nice_cases'].sum()/nice_cases['bad_marks'].sum()*100,2))\n",
    "# количество двоечников, которые имеют хоть одну неисправленную двойку\n",
    "print('количество двоечников, которые имеют хоть одну неисправленную двойку',len(nice_cases[nice_cases['bad_marks_final']>0]))\n",
    "\n",
    "# общее количество неисправленных двоек \n",
    "print('общее количество неисправленных двоек ',nice_cases['bad_marks_final'].sum())\n",
    "# количество двоечников, которые имеют хоть одну исправленную двойку\n",
    "print('количество двоечников, которые имеют хоть одну исправленную двойку',len(nice_cases[nice_cases['nice_cases']>0]))\n",
    "\n",
    "# общее количество исправленных двоек \n",
    "print('общее количество исправленных двоек ',nice_cases['nice_cases'].sum())"
   ]
  },
  {
   "cell_type": "code",
   "execution_count": 49,
   "metadata": {},
   "outputs": [],
   "source": [
    "nice_cases_fig= nice_cases[nice_cases['nice_cases'] > 0]"
   ]
  },
  {
   "cell_type": "code",
   "execution_count": 50,
   "metadata": {},
   "outputs": [
    {
     "data": {
      "text/html": [
       "<div>\n",
       "<style scoped>\n",
       "    .dataframe tbody tr th:only-of-type {\n",
       "        vertical-align: middle;\n",
       "    }\n",
       "\n",
       "    .dataframe tbody tr th {\n",
       "        vertical-align: top;\n",
       "    }\n",
       "\n",
       "    .dataframe thead th {\n",
       "        text-align: right;\n",
       "    }\n",
       "</style>\n",
       "<table border=\"1\" class=\"dataframe\">\n",
       "  <thead>\n",
       "    <tr style=\"text-align: right;\">\n",
       "      <th></th>\n",
       "      <th>uuid</th>\n",
       "      <th>bad_marks</th>\n",
       "      <th>bad_marks_final</th>\n",
       "      <th>nice_cases</th>\n",
       "      <th>failds_corrected_percent</th>\n",
       "    </tr>\n",
       "  </thead>\n",
       "  <tbody>\n",
       "    <tr>\n",
       "      <th>0</th>\n",
       "      <td>00bcd658-be72-55ce-a55d-922033d24e8d</td>\n",
       "      <td>18.0</td>\n",
       "      <td>7.0</td>\n",
       "      <td>11.0</td>\n",
       "      <td>61.11</td>\n",
       "    </tr>\n",
       "    <tr>\n",
       "      <th>1</th>\n",
       "      <td>00c4a339-6177-522d-8638-ce53266ae980</td>\n",
       "      <td>4.0</td>\n",
       "      <td>0.0</td>\n",
       "      <td>4.0</td>\n",
       "      <td>100.00</td>\n",
       "    </tr>\n",
       "    <tr>\n",
       "      <th>2</th>\n",
       "      <td>0118adcd-86a0-5556-aea3-19a1df4af3a0</td>\n",
       "      <td>36.0</td>\n",
       "      <td>32.0</td>\n",
       "      <td>4.0</td>\n",
       "      <td>11.11</td>\n",
       "    </tr>\n",
       "    <tr>\n",
       "      <th>3</th>\n",
       "      <td>01699bac-b70b-5746-a02e-79ed75425f93</td>\n",
       "      <td>19.0</td>\n",
       "      <td>1.0</td>\n",
       "      <td>18.0</td>\n",
       "      <td>94.74</td>\n",
       "    </tr>\n",
       "    <tr>\n",
       "      <th>4</th>\n",
       "      <td>01ee572a-44d0-53d9-a62e-c7ce700a7172</td>\n",
       "      <td>15.0</td>\n",
       "      <td>7.0</td>\n",
       "      <td>8.0</td>\n",
       "      <td>53.33</td>\n",
       "    </tr>\n",
       "  </tbody>\n",
       "</table>\n",
       "</div>"
      ],
      "text/plain": [
       "                                   uuid  bad_marks  bad_marks_final  \\\n",
       "0  00bcd658-be72-55ce-a55d-922033d24e8d       18.0              7.0   \n",
       "1  00c4a339-6177-522d-8638-ce53266ae980        4.0              0.0   \n",
       "2  0118adcd-86a0-5556-aea3-19a1df4af3a0       36.0             32.0   \n",
       "3  01699bac-b70b-5746-a02e-79ed75425f93       19.0              1.0   \n",
       "4  01ee572a-44d0-53d9-a62e-c7ce700a7172       15.0              7.0   \n",
       "\n",
       "   nice_cases  failds_corrected_percent  \n",
       "0        11.0                     61.11  \n",
       "1         4.0                    100.00  \n",
       "2         4.0                     11.11  \n",
       "3        18.0                     94.74  \n",
       "4         8.0                     53.33  "
      ]
     },
     "execution_count": 50,
     "metadata": {},
     "output_type": "execute_result"
    }
   ],
   "source": [
    "nice_cases_fig.head()"
   ]
  },
  {
   "cell_type": "code",
   "execution_count": 51,
   "metadata": {},
   "outputs": [
    {
     "name": "stdout",
     "output_type": "stream",
     "text": [
      "<class 'pandas.core.frame.DataFrame'>\n",
      "Index: 1096 entries, 0 to 1313\n",
      "Data columns (total 5 columns):\n",
      " #   Column                    Non-Null Count  Dtype  \n",
      "---  ------                    --------------  -----  \n",
      " 0   uuid                      1096 non-null   object \n",
      " 1   bad_marks                 1096 non-null   float64\n",
      " 2   bad_marks_final           1096 non-null   float64\n",
      " 3   nice_cases                1096 non-null   float64\n",
      " 4   failds_corrected_percent  1096 non-null   float64\n",
      "dtypes: float64(4), object(1)\n",
      "memory usage: 51.4+ KB\n"
     ]
    }
   ],
   "source": [
    "nice_cases_fig.info()"
   ]
  },
  {
   "cell_type": "code",
   "execution_count": 52,
   "metadata": {},
   "outputs": [
    {
     "data": {
      "image/png": "[encoded data removed]",
      "text/plain": [
       "<Figure size 1000x600 with 1 Axes>"
      ]
     },
     "metadata": {},
     "output_type": "display_data"
    }
   ],
   "source": [
    "# по оси Y количество студентов, по оси X процент исправленных двоек за все время обучения \n",
    "# над каждым столбцом указано количество студентов \n",
    "\n",
    "# шаги на оси ox\n",
    "x_ticks = np.arange(0, 101, 5)\n",
    "\n",
    "# распределение процента исправленных двоек \n",
    "plt.figure(figsize=(10, 6))\n",
    "histogram=sns.histplot(nice_cases_fig['failds_corrected_percent'], bins=range(0, 101, 5), kde=False, color='darkgreen')\n",
    "plt.xticks(x_ticks)\n",
    "plt.title('распределение исправленных двоек')\n",
    "plt.xlabel('процент исправленных двоек')\n",
    "plt.ylabel('количество студентов')\n",
    "\n",
    "# количество наблюдений в каждой группе\n",
    "for p in histogram.patches:\n",
    "    histogram.annotate(f'{p.get_height()}', (p.get_x() + p.get_width() / 2., p.get_height()), ha='center', va='center', xytext=(0, 5), textcoords='offset points')\n",
    "\n",
    "plt.show()"
   ]
  },
  {
   "cell_type": "code",
   "execution_count": 98,
   "metadata": {},
   "outputs": [
    {
     "name": "stderr",
     "output_type": "stream",
     "text": [
      "C:\\Users\\User\\AppData\\Local\\Temp\\ipykernel_13448\\1796607131.py:6: FutureWarning: The default of observed=False is deprecated and will be changed to True in a future version of pandas. Pass observed=False to retain current behavior or observed=True to adopt the future default and silence this warning.\n",
      "  median_bad_marks = nice_cases_fig.groupby(pd.cut(nice_cases_fig['failds_corrected_percent'], bins=np.arange(0, 105, 5)))['bad_marks'].median()\n"
     ]
    },
    {
     "data": {
      "image/png": "[encoded data removed]",
      "text/plain": [
       "<Figure size 1000x600 with 1 Axes>"
      ]
     },
     "metadata": {},
     "output_type": "display_data"
    }
   ],
   "source": [
    "# в этом анализе бакалавры, которые сейчас обучаются на 4 курсе\n",
    "# по оси Y количество студентов, по оси X процент исправленных двоек за все время обучения \n",
    "# над каждым столбцом указано значение медианы двоек(без учета пересдач) у студентов, находящихся в этом столбце \n",
    "\n",
    "# Группировка данных по столбцу 'failds_corrected_percent' и расчет медианы 'bad_marks' в каждой группе\n",
    "median_bad_marks = nice_cases_fig.groupby(pd.cut(nice_cases_fig['failds_corrected_percent'], bins=np.arange(0, 105, 5)))['bad_marks'].median()\n",
    "\n",
    "# Шаги на оси ox\n",
    "x_ticks = np.arange(0, 101, 5)\n",
    "\n",
    "# Распределение процента исправленных двоек \n",
    "plt.figure(figsize=(10, 6))\n",
    "histogram = sns.histplot(nice_cases_fig['failds_corrected_percent'], bins=range(0, 101, 5), kde=False, color='darkgreen')\n",
    "plt.xticks(x_ticks)\n",
    "plt.title('Распределение исправленных двоек')\n",
    "plt.xlabel('Процент исправленных двоек')\n",
    "plt.ylabel('Количество')\n",
    "\n",
    "# Количество наблюдений в каждой группе\n",
    "for i, p in enumerate(histogram.patches):\n",
    "    median_value = median_bad_marks.iloc[i]\n",
    "    histogram.annotate(f'{median_value}', (p.get_x() + p.get_width() / 2., p.get_height()), ha='center', va='center', xytext=(0, 5), textcoords='offset points')\n",
    "\n",
    "plt.show()"
   ]
  },
  {
   "cell_type": "code",
   "execution_count": 104,
   "metadata": {},
   "outputs": [
    {
     "name": "stderr",
     "output_type": "stream",
     "text": [
      "C:\\Users\\User\\AppData\\Local\\Temp\\ipykernel_13448\\737071794.py:6: FutureWarning: The default of observed=False is deprecated and will be changed to True in a future version of pandas. Pass observed=False to retain current behavior or observed=True to adopt the future default and silence this warning.\n",
      "  median_bad_marks = round(nice_cases_fig.groupby(pd.cut(nice_cases_fig['failds_corrected_percent'], bins=np.arange(0, 105, 5)))['bad_marks'].mean(),2)\n"
     ]
    },
    {
     "data": {
      "image/png": "[encoded data removed]",
      "text/plain": [
       "<Figure size 1000x600 with 1 Axes>"
      ]
     },
     "metadata": {},
     "output_type": "display_data"
    }
   ],
   "source": [
    "# в этом анализе бакалавры, которые сейчас обучаются на 4 курсе\n",
    "# по оси Y количество студентов, по оси X процент исправленных двоек за все время обучения \n",
    "# над каждым столбцом указано среднее значение двоек(без учета пересдач) у студентов, находящихся в этом столбце \n",
    "\n",
    "# Группировка данных по столбцу 'failds_corrected_percent' и расчет медианы 'bad_marks' в каждой группе\n",
    "median_bad_marks = round(nice_cases_fig.groupby(pd.cut(nice_cases_fig['failds_corrected_percent'], bins=np.arange(0, 105, 5)))['bad_marks'].mean(),2)\n",
    "\n",
    "# Шаги на оси ox\n",
    "x_ticks = np.arange(0, 101, 5)\n",
    "\n",
    "# Распределение процента исправленных двоек \n",
    "plt.figure(figsize=(10, 6))\n",
    "histogram = sns.histplot(nice_cases_fig['failds_corrected_percent'], bins=range(0, 101, 5), kde=False, color='darkgreen')\n",
    "plt.xticks(x_ticks)\n",
    "plt.title('Распределение исправленных двоек')\n",
    "plt.xlabel('Процент исправленных двоек')\n",
    "plt.ylabel('Количество')\n",
    "\n",
    "# Количество наблюдений в каждой группе\n",
    "for i, p in enumerate(histogram.patches):\n",
    "    median_value = median_bad_marks.iloc[i]\n",
    "    histogram.annotate(f'{median_value}', (p.get_x() + p.get_width() / 2., p.get_height()), ha='center', va='center', xytext=(0, 5), textcoords='offset points')\n",
    "\n",
    "plt.show()"
   ]
  },
  {
   "cell_type": "code",
   "execution_count": null,
   "metadata": {},
   "outputs": [],
   "source": []
  }
 ],
 "metadata": {
  "kernelspec": {
   "display_name": "Python 3",
   "language": "python",
   "name": "python3"
  },
  "language_info": {
   "codemirror_mode": {
    "name": "ipython",
    "version": 3
   },
   "file_extension": ".py",
   "mimetype": "text/x-python",
   "name": "python",
   "nbconvert_exporter": "python",
   "pygments_lexer": "ipython3",
   "version": "3.12.2"
  }
 },
 "nbformat": 4,
 "nbformat_minor": 2
}
