{
 "cells": [
  {
   "cell_type": "code",
   "execution_count": 1,
   "metadata": {},
   "outputs": [],
   "source": [
    "import pandas as pd\n",
    "import numpy as np\n",
    "import re\n",
    "import uuid\n",
    "import seaborn as sns\n",
    "import matplotlib.pyplot as plt\n",
    "import plotly.express as px\n",
    "from sklearn.cluster import KMeans\n",
    "\n",
    "import plotly.graph_objects as go\n",
    "\n",
    "from sklearn.decomposition import PCA\n",
    "\n",
    "pd.set_option('display.max_rows', None)\n",
    "pd.set_option('display.max_columns', None)\n",
    "pd.set_option('display.max_colwidth', None)\n",
    "pd.options.display.max_columns=None\n",
    "pd.options.mode.chained_assignment = None"
   ]
  },
  {
   "cell_type": "code",
   "execution_count": 2,
   "metadata": {},
   "outputs": [],
   "source": [
    "stud_feb= pd.read_excel(r'/home/kusapochka/studenti_report/studenti_feb_24.xlsx')"
   ]
  },
  {
   "cell_type": "code",
   "execution_count": 3,
   "metadata": {},
   "outputs": [],
   "source": [
    "# Добавление uuid\n",
    "def text_to_uuid(text):\n",
    "    return str(uuid.uuid5(uuid.NAMESPACE_DNS, text))\n",
    "stud_feb.insert(0, 'uuid', stud_feb.apply(lambda row: text_to_uuid(' '.join(row['ФИО'])), axis=1))\n",
    "stud_feb_fio_uuid_full=stud_feb.copy()\n",
    "stud_feb_fio_uuid=stud_feb.drop_duplicates(subset='uuid')\n",
    "# удаление лишних столбцов \n",
    "stud_feb.drop(columns=['ФИО','Номер ЛД','№п/п'], inplace=True)\n",
    "# меняю названия столбцов\n",
    "stud_feb=stud_feb.rename(columns={'Уровень подготовки':'degree','Специальность/направление':'faculty','Учебный год':'year','Полугодие':'semester','Дисциплина':'subject','Оценка (без пересдач)':'marks','Оценка (успеваемость)':'marks_final','Корпоративный Email':'email','Учебная группа':'group'})"
   ]
  },
  {
   "cell_type": "code",
   "execution_count": 4,
   "metadata": {},
   "outputs": [],
   "source": [
    "# убираю все нули\n",
    "# stud_feb = stud_feb.dropna(subset=['marks', 'marks_final'], how='all') "
   ]
  },
  {
   "cell_type": "code",
   "execution_count": 5,
   "metadata": {},
   "outputs": [],
   "source": [
    "# убираем будущее\n",
    "stud_feb['marks'] = stud_feb['marks'].str.strip()\n",
    "stud_feb['marks_final'] = stud_feb['marks_final'].str.strip()\n",
    "stud_feb=stud_feb.query('year != \"2024 - 2025\" and year != \"2025 - 2026\" and year != \"2026 - 2027\" and year != \"2027 - 2028\" and year != \"2028 - 2029\" and year != \"2029 - 2030\" ').reset_index(drop=True)\n"
   ]
  },
  {
   "cell_type": "code",
   "execution_count": 6,
   "metadata": {},
   "outputs": [],
   "source": [
    "# год и семестр вместе, убираем еще один слой будущего \n",
    "stud_feb['date']=stud_feb['year'] + stud_feb['semester']\n",
    "stud_feb['date'] = stud_feb['date'].str.strip()\n",
    "stud_feb=stud_feb.query('date != \"2023 - 2024II полугодие\"')\n"
   ]
  },
  {
   "cell_type": "code",
   "execution_count": 7,
   "metadata": {},
   "outputs": [
    {
     "name": "stderr",
     "output_type": "stream",
     "text": [
      "/tmp/ipykernel_134982/1356810080.py:8: FutureWarning: A value is trying to be set on a copy of a DataFrame or Series through chained assignment using an inplace method.\n",
      "The behavior will change in pandas 3.0. This inplace method will never work because the intermediate object on which we are setting values always behaves as a copy.\n",
      "\n",
      "For example, when doing 'df[col].method(value, inplace=True)', try using 'df.method({col: value}, inplace=True)' or df[col] = df[col].method(value) instead, to perform the operation inplace on the original object.\n",
      "\n",
      "\n",
      "  stud_feb['date'].replace(dict,inplace=True)\n"
     ]
    }
   ],
   "source": [
    "dict={\"2020 - 2021I полугодие\": \"20_21_semestr1\",\n",
    "    \"2020 - 2021II полугодие\": \"20_21_semestr2\",\n",
    "    \"2021 - 2022I полугодие\": \"21_22_semestr1\",\n",
    "    \"2021 - 2022II полугодие\": \"21_22_semestr2\",\n",
    "    \"2022 - 2023I полугодие\": \"22_23_semestr1\",\n",
    "    \"2022 - 2023II полугодие\": \"22_23_semestr2\",\n",
    "    \"2023 - 2024I полугодие\": \"23_24_semestr1\"}\n",
    "stud_feb['date'].replace(dict,inplace=True)"
   ]
  },
  {
   "cell_type": "code",
   "execution_count": 8,
   "metadata": {},
   "outputs": [],
   "source": [
    "# датафрейм, в котором в котором пропущенны оба значения в оценках \n",
    "stud_null = stud_feb[(stud_feb['marks'].isnull()) & (stud_feb['marks_final'].isnull())]"
   ]
  },
  {
   "cell_type": "code",
   "execution_count": 9,
   "metadata": {},
   "outputs": [],
   "source": [
    "# выделяем курс студента для каждого наблюдения "
   ]
  },
  {
   "cell_type": "code",
   "execution_count": 10,
   "metadata": {},
   "outputs": [],
   "source": [
    "stud_feb['year_group'] = stud_feb['group'].str.extract(r'-(\\d{2})-')\n",
    "\n",
    "stud_feb['year_group'] = stud_feb['year_group'].astype(float)\n",
    "\n",
    "stud_feb['year_group'] = stud_feb['year_group'].apply(lambda x: 2000 + x)"
   ]
  },
  {
   "cell_type": "code",
   "execution_count": 11,
   "metadata": {},
   "outputs": [
    {
     "data": {
      "text/plain": [
       "year_group\n",
       "2020.0    85636\n",
       "2022.0    67105\n",
       "2021.0    65600\n",
       "2023.0    22204\n",
       "2019.0    20618\n",
       "2018.0    13565\n",
       "2017.0      799\n",
       "2016.0      627\n",
       "Name: count, dtype: int64"
      ]
     },
     "execution_count": 11,
     "metadata": {},
     "output_type": "execute_result"
    }
   ],
   "source": [
    "stud_feb['year_group'].value_counts()"
   ]
  },
  {
   "cell_type": "code",
   "execution_count": 12,
   "metadata": {},
   "outputs": [
    {
     "data": {
      "text/html": [
       "<div>\n",
       "<style scoped>\n",
       "    .dataframe tbody tr th:only-of-type {\n",
       "        vertical-align: middle;\n",
       "    }\n",
       "\n",
       "    .dataframe tbody tr th {\n",
       "        vertical-align: top;\n",
       "    }\n",
       "\n",
       "    .dataframe thead th {\n",
       "        text-align: right;\n",
       "    }\n",
       "</style>\n",
       "<table border=\"1\" class=\"dataframe\">\n",
       "  <thead>\n",
       "    <tr style=\"text-align: right;\">\n",
       "      <th></th>\n",
       "      <th>uuid</th>\n",
       "      <th>email</th>\n",
       "      <th>subject</th>\n",
       "      <th>marks</th>\n",
       "      <th>marks_final</th>\n",
       "      <th>semester</th>\n",
       "      <th>year</th>\n",
       "      <th>faculty</th>\n",
       "      <th>degree</th>\n",
       "      <th>group</th>\n",
       "      <th>date</th>\n",
       "      <th>year_group</th>\n",
       "    </tr>\n",
       "  </thead>\n",
       "  <tbody>\n",
       "    <tr>\n",
       "      <th>0</th>\n",
       "      <td>7ea6b823-4347-5f8a-8b70-36a92dc8542d</td>\n",
       "      <td>m2010218@edu.misis.ru</td>\n",
       "      <td>Автоматизация технологических процессов</td>\n",
       "      <td>Хорошо</td>\n",
       "      <td>Хорошо</td>\n",
       "      <td>II полугодие</td>\n",
       "      <td>2022 - 2023</td>\n",
       "      <td>Информатика и вычислительная техника</td>\n",
       "      <td>Академический бакалавр</td>\n",
       "      <td>БИВТ-20-4</td>\n",
       "      <td>22_23_semestr2</td>\n",
       "      <td>2020.0</td>\n",
       "    </tr>\n",
       "    <tr>\n",
       "      <th>1</th>\n",
       "      <td>7ea6b823-4347-5f8a-8b70-36a92dc8542d</td>\n",
       "      <td>m2010218@edu.misis.ru</td>\n",
       "      <td>Алгоритмы дискретной математики</td>\n",
       "      <td>Хорошо</td>\n",
       "      <td>Хорошо</td>\n",
       "      <td>II полугодие</td>\n",
       "      <td>2021 - 2022</td>\n",
       "      <td>Информатика и вычислительная техника</td>\n",
       "      <td>Академический бакалавр</td>\n",
       "      <td>БИВТ-20-4</td>\n",
       "      <td>21_22_semestr2</td>\n",
       "      <td>2020.0</td>\n",
       "    </tr>\n",
       "    <tr>\n",
       "      <th>2</th>\n",
       "      <td>7ea6b823-4347-5f8a-8b70-36a92dc8542d</td>\n",
       "      <td>m2010218@edu.misis.ru</td>\n",
       "      <td>Базы данных</td>\n",
       "      <td>Хорошо</td>\n",
       "      <td>Хорошо</td>\n",
       "      <td>I полугодие</td>\n",
       "      <td>2021 - 2022</td>\n",
       "      <td>Информатика и вычислительная техника</td>\n",
       "      <td>Академический бакалавр</td>\n",
       "      <td>БИВТ-20-4</td>\n",
       "      <td>21_22_semestr1</td>\n",
       "      <td>2020.0</td>\n",
       "    </tr>\n",
       "  </tbody>\n",
       "</table>\n",
       "</div>"
      ],
      "text/plain": [
       "                                   uuid                  email  \\\n",
       "0  7ea6b823-4347-5f8a-8b70-36a92dc8542d  m2010218@edu.misis.ru   \n",
       "1  7ea6b823-4347-5f8a-8b70-36a92dc8542d  m2010218@edu.misis.ru   \n",
       "2  7ea6b823-4347-5f8a-8b70-36a92dc8542d  m2010218@edu.misis.ru   \n",
       "\n",
       "                                   subject   marks marks_final      semester  \\\n",
       "0  Автоматизация технологических процессов  Хорошо      Хорошо  II полугодие   \n",
       "1          Алгоритмы дискретной математики  Хорошо      Хорошо  II полугодие   \n",
       "2                              Базы данных  Хорошо      Хорошо   I полугодие   \n",
       "\n",
       "          year                               faculty                  degree  \\\n",
       "0  2022 - 2023  Информатика и вычислительная техника  Академический бакалавр   \n",
       "1  2021 - 2022  Информатика и вычислительная техника  Академический бакалавр   \n",
       "2  2021 - 2022  Информатика и вычислительная техника  Академический бакалавр   \n",
       "\n",
       "       group            date  year_group  \n",
       "0  БИВТ-20-4  22_23_semestr2      2020.0  \n",
       "1  БИВТ-20-4  21_22_semestr2      2020.0  \n",
       "2  БИВТ-20-4  21_22_semestr1      2020.0  "
      ]
     },
     "execution_count": 12,
     "metadata": {},
     "output_type": "execute_result"
    }
   ],
   "source": [
    "stud_feb.head(3)"
   ]
  },
  {
   "cell_type": "markdown",
   "metadata": {},
   "source": [
    "####  выбор нужного курса "
   ]
  },
  {
   "cell_type": "code",
   "execution_count": 13,
   "metadata": {},
   "outputs": [],
   "source": [
    "# к нижнему регистру столбец degree\n",
    "stud_feb['degree'] = stud_feb['degree'].str.lower()\n",
    "\n",
    "#выбираем только бакалавров\n",
    "stud_feb = stud_feb[stud_feb['degree'].str.contains('бакалавр')]"
   ]
  },
  {
   "cell_type": "code",
   "execution_count": 14,
   "metadata": {},
   "outputs": [],
   "source": [
    "# оставили только бакалвров, которые сейчас на 4 курсе \n",
    "stud_feb=stud_feb[stud_feb['year_group'] == 2020]"
   ]
  },
  {
   "cell_type": "code",
   "execution_count": 15,
   "metadata": {},
   "outputs": [
    {
     "name": "stdout",
     "output_type": "stream",
     "text": [
      "<class 'pandas.core.frame.DataFrame'>\n",
      "Index: 74416 entries, 0 to 349703\n",
      "Data columns (total 12 columns):\n",
      " #   Column       Non-Null Count  Dtype  \n",
      "---  ------       --------------  -----  \n",
      " 0   uuid         74416 non-null  object \n",
      " 1   email        74416 non-null  object \n",
      " 2   subject      74406 non-null  object \n",
      " 3   marks        65134 non-null  object \n",
      " 4   marks_final  68350 non-null  object \n",
      " 5   semester     74406 non-null  object \n",
      " 6   year         74406 non-null  object \n",
      " 7   faculty      74416 non-null  object \n",
      " 8   degree       74416 non-null  object \n",
      " 9   group        74416 non-null  object \n",
      " 10  date         74406 non-null  object \n",
      " 11  year_group   74416 non-null  float64\n",
      "dtypes: float64(1), object(11)\n",
      "memory usage: 7.4+ MB\n"
     ]
    }
   ],
   "source": [
    "stud_feb.info()"
   ]
  },
  {
   "cell_type": "code",
   "execution_count": 18,
   "metadata": {},
   "outputs": [],
   "source": [
    "marks_null = stud_feb[stud_feb['marks_final'].isnull()]"
   ]
  },
  {
   "cell_type": "code",
   "execution_count": 23,
   "metadata": {},
   "outputs": [
    {
     "name": "stdout",
     "output_type": "stream",
     "text": [
      "<class 'pandas.core.frame.DataFrame'>\n",
      "Index: 6066 entries, 46 to 349697\n",
      "Data columns (total 12 columns):\n",
      " #   Column       Non-Null Count  Dtype  \n",
      "---  ------       --------------  -----  \n",
      " 0   uuid         6066 non-null   object \n",
      " 1   email        6066 non-null   object \n",
      " 2   subject      6056 non-null   object \n",
      " 3   marks        1179 non-null   object \n",
      " 4   marks_final  0 non-null      object \n",
      " 5   semester     6056 non-null   object \n",
      " 6   year         6056 non-null   object \n",
      " 7   faculty      6066 non-null   object \n",
      " 8   degree       6066 non-null   object \n",
      " 9   group        6066 non-null   object \n",
      " 10  date         6056 non-null   object \n",
      " 11  year_group   6066 non-null   float64\n",
      "dtypes: float64(1), object(11)\n",
      "memory usage: 616.1+ KB\n"
     ]
    }
   ],
   "source": [
    "marks_null.info()"
   ]
  },
  {
   "cell_type": "code",
   "execution_count": 22,
   "metadata": {},
   "outputs": [
    {
     "data": {
      "text/plain": [
       "1391"
      ]
     },
     "execution_count": 22,
     "metadata": {},
     "output_type": "execute_result"
    }
   ],
   "source": [
    "len(stud_feb['uuid'].unique())"
   ]
  },
  {
   "cell_type": "code",
   "execution_count": 21,
   "metadata": {},
   "outputs": [
    {
     "data": {
      "text/plain": [
       "736"
      ]
     },
     "execution_count": 21,
     "metadata": {},
     "output_type": "execute_result"
    }
   ],
   "source": [
    "len(marks_null['uuid'].unique())"
   ]
  },
  {
   "cell_type": "code",
   "execution_count": 25,
   "metadata": {},
   "outputs": [
    {
     "data": {
      "text/plain": [
       "393"
      ]
     },
     "execution_count": 25,
     "metadata": {},
     "output_type": "execute_result"
    }
   ],
   "source": [
    "len(marks_null['subject'].unique())"
   ]
  },
  {
   "cell_type": "code",
   "execution_count": null,
   "metadata": {},
   "outputs": [],
   "source": [
    "marks_null['subject'].value_counts()"
   ]
  },
  {
   "cell_type": "markdown",
   "metadata": {},
   "source": [
    "#### удаляем 20% случаев, где обе оценки пропущены "
   ]
  },
  {
   "cell_type": "code",
   "execution_count": null,
   "metadata": {},
   "outputs": [],
   "source": [
    "# выделяем только тех, у кого обе оценки null \n",
    "vse_nuli=stud_feb[stud_feb['marks_final'].isnull() & stud_feb['marks'].isnull()]"
   ]
  },
  {
   "cell_type": "code",
   "execution_count": null,
   "metadata": {},
   "outputs": [],
   "source": [
    "grouped = vse_nuli.groupby('uuid')\n",
    "\n",
    "# создаю датафрейм для сохранения строк после удаления 20% из каждой группы\n",
    "nuli_out = pd.DataFrame(columns=vse_nuli.columns)"
   ]
  },
  {
   "cell_type": "code",
   "execution_count": null,
   "metadata": {},
   "outputs": [],
   "source": [
    "# оставляем 20% строк из каждой группы\n",
    "for name, group in grouped:\n",
    "    num_rows_to_keep = int(len(group) * 0.2)\n",
    "    sampled_group = group.sample(n=num_rows_to_keep, random_state=42)  # Фиксируем random_state для воспроизводимости\n",
    "    nuli_out = pd.concat([nuli_out, sampled_group])"
   ]
  },
  {
   "cell_type": "code",
   "execution_count": null,
   "metadata": {},
   "outputs": [],
   "source": [
    "nuli_out.info()"
   ]
  },
  {
   "cell_type": "code",
   "execution_count": null,
   "metadata": {},
   "outputs": [],
   "source": []
  },
  {
   "cell_type": "code",
   "execution_count": null,
   "metadata": {},
   "outputs": [],
   "source": [
    "# удалил 20% оценок с двумя нулями, предполагая что это пустые предметы по выбору \n",
    "indexes_to_drop = nuli_out.index\n",
    "stud_feb.drop(index=indexes_to_drop, inplace=True)"
   ]
  },
  {
   "cell_type": "code",
   "execution_count": null,
   "metadata": {},
   "outputs": [],
   "source": [
    "stud_feb.info()"
   ]
  },
  {
   "cell_type": "code",
   "execution_count": null,
   "metadata": {},
   "outputs": [],
   "source": [
    "stud_feb.head(3)"
   ]
  },
  {
   "cell_type": "markdown",
   "metadata": {},
   "source": [
    "#### унификация оценок неудовлетворительно "
   ]
  },
  {
   "cell_type": "code",
   "execution_count": null,
   "metadata": {},
   "outputs": [],
   "source": [
    "# заменяю пропущенные значения в столбце marks значением 'неудовлетворительно'\n",
    "stud_feb['marks'].fillna('неудовлетворительно', inplace=True)\n",
    "# заполняю соответствующие строки в столбце marks_final значением 'неудовлетворительно'\n",
    "stud_feb['marks_final'].fillna('неудовлетворительно', inplace=True)"
   ]
  },
  {
   "cell_type": "code",
   "execution_count": null,
   "metadata": {},
   "outputs": [],
   "source": [
    "stud_feb['marks_final'] = stud_feb['marks_final'].replace(['Неудовлетворительно', 'не зачтено', 'Не допущен'], 'неудовлетворительно')\n",
    "stud_feb['marks'] = stud_feb['marks'].replace(['Неудовлетворительно', 'не зачтено', 'Не допущен'], 'неудовлетворительно')"
   ]
  },
  {
   "cell_type": "code",
   "execution_count": null,
   "metadata": {},
   "outputs": [],
   "source": [
    "stud_feb.info()"
   ]
  },
  {
   "cell_type": "code",
   "execution_count": null,
   "metadata": {},
   "outputs": [],
   "source": [
    "# студенты у которых пропущена дата предмет\n",
    "data_subject_nuli=stud_feb[stud_feb['date'].isnull()]"
   ]
  },
  {
   "cell_type": "code",
   "execution_count": null,
   "metadata": {},
   "outputs": [],
   "source": [
    "stud_feb.dropna(inplace=True)"
   ]
  },
  {
   "cell_type": "code",
   "execution_count": null,
   "metadata": {},
   "outputs": [],
   "source": [
    "stud_feb.info()"
   ]
  },
  {
   "cell_type": "code",
   "execution_count": null,
   "metadata": {},
   "outputs": [],
   "source": [
    "stud_feb.head()"
   ]
  },
  {
   "cell_type": "code",
   "execution_count": null,
   "metadata": {},
   "outputs": [],
   "source": []
  },
  {
   "cell_type": "markdown",
   "metadata": {},
   "source": [
    "#### подготовка данных для кластеризации "
   ]
  },
  {
   "cell_type": "code",
   "execution_count": null,
   "metadata": {},
   "outputs": [],
   "source": [
    "grouped_df_final = stud_feb.groupby(['uuid', 'date', 'marks_final']).size().reset_index(name='count_marks_final')\n",
    "\n",
    "grouped_df_final.head()\n",
    "# рассчитаем процент всех оценок для каждого uuid за все время \n",
    "total_per_semester = grouped_df_final.groupby(['uuid','date'])['count_marks_final'].transform('sum')\n",
    "grouped_df_final['percentage'] = round((grouped_df_final['count_marks_final'] / total_per_semester) * 100,2)\n"
   ]
  },
  {
   "cell_type": "code",
   "execution_count": null,
   "metadata": {},
   "outputs": [],
   "source": [
    "grouped_df_final.head()"
   ]
  },
  {
   "cell_type": "code",
   "execution_count": null,
   "metadata": {},
   "outputs": [],
   "source": [
    "# теперь только двойки\n",
    "dvoechki=grouped_df_final.query('marks_final == \"неудовлетворительно\"').reset_index(drop=True)\n",
    "dvoechki.head()\n"
   ]
  },
  {
   "cell_type": "code",
   "execution_count": null,
   "metadata": {},
   "outputs": [],
   "source": [
    "# группируем и считаем накопительно \n",
    "dvoechki_pivot = dvoechki.pivot(index='uuid', columns='date', values='count_marks_final').fillna(0).reset_index()\n",
    "dvoechki_pivot = dvoechki_pivot.set_index('uuid')\n",
    "dvoechki_pivot_vsego=dvoechki_pivot.cumsum(axis=1).reset_index()\n",
    "dvoechki_pivot_vsego.head(3)\n",
    "\n"
   ]
  },
  {
   "cell_type": "code",
   "execution_count": null,
   "metadata": {},
   "outputs": [],
   "source": [
    "len(dvoechki_pivot_vsego['uuid'].unique())"
   ]
  },
  {
   "cell_type": "code",
   "execution_count": null,
   "metadata": {},
   "outputs": [],
   "source": [
    "# считаю общее количество оценок в семестре \n",
    "marks_per_semestr = grouped_df_final.groupby(['uuid', 'date'])['count_marks_final'].sum()\n",
    "marks_per_semestr=grouped_df_final.pivot_table(index='uuid', columns='date', values='count_marks_final',aggfunc=sum).fillna(0).reset_index()\n",
    "marks_per_semestr=marks_per_semestr.set_index('uuid')\n",
    "marks_per_semestr_vsego=marks_per_semestr.cumsum(axis=1).reset_index()\n",
    "\n",
    "marks_per_semestr_vsego.head()\n"
   ]
  },
  {
   "cell_type": "code",
   "execution_count": null,
   "metadata": {},
   "outputs": [],
   "source": [
    "len(marks_per_semestr_vsego['uuid'].unique())"
   ]
  },
  {
   "cell_type": "code",
   "execution_count": null,
   "metadata": {},
   "outputs": [],
   "source": [
    "\n",
    "\n",
    "# считаем процент двоек ко всем оценкам \n",
    "dvoechniki_list=list(dvoechki_pivot_vsego['uuid'])\n",
    "marks_per_semestr_vsego_dvoechniki=marks_per_semestr_vsego.query('uuid in @dvoechniki_list')\n",
    "dvoechki_pivot_vsego.head(3)\n",
    "marks_per_semestr_vsego_dvoechniki.head(3)\n",
    "dvoechki_pivot_vsego = dvoechki_pivot_vsego.set_index('uuid')\n",
    "marks_per_semestr_vsego_dvoechniki = marks_per_semestr_vsego_dvoechniki.set_index('uuid')\n",
    "\n",
    "dvoechki_vsego = dvoechki_pivot_vsego.div(marks_per_semestr_vsego_dvoechniki).round(2).fillna(0).reset_index()\n",
    "dvoechki_vsego.head()"
   ]
  },
  {
   "cell_type": "code",
   "execution_count": null,
   "metadata": {},
   "outputs": [],
   "source": [
    "len(dvoechki_vsego['uuid'].unique())"
   ]
  },
  {
   "cell_type": "code",
   "execution_count": null,
   "metadata": {},
   "outputs": [],
   "source": [
    "dvoechki.head(10)"
   ]
  },
  {
   "cell_type": "code",
   "execution_count": null,
   "metadata": {},
   "outputs": [],
   "source": [
    "\n",
    "# распределение процента двоек ко всем оценкам внури семестра за все время обучения \n",
    "# над каждым столбцом указано количество наблюдений, которые попадают в этот промежуток \n",
    "x_ticks = np.arange(0, 101, 5)\n",
    "\n",
    "# распределение процента исправленных двоек \n",
    "plt.figure(figsize=(10, 6))\n",
    "histogram=sns.histplot(dvoechki['percentage'], bins=range(0, 101, 5), kde=False, color='darkblue')\n",
    "plt.xticks(x_ticks)\n",
    "plt.title(' Процент двоек внутри семестра')\n",
    "plt.xlabel('Процент двоек ко всем оценкам в одном семестре')\n",
    "plt.ylabel('Количество наблюдений')\n",
    "\n",
    "# количество наблюдений в каждой группе\n",
    "for p in histogram.patches:\n",
    "    histogram.annotate(f'{p.get_height()}', (p.get_x() + p.get_width() / 2., p.get_height()), ha='center', va='center', xytext=(0, 5), textcoords='offset points')\n",
    "\n",
    "plt.show()"
   ]
  },
  {
   "cell_type": "code",
   "execution_count": null,
   "metadata": {},
   "outputs": [],
   "source": [
    "len(dvoechki['uuid'].unique())"
   ]
  },
  {
   "cell_type": "code",
   "execution_count": null,
   "metadata": {},
   "outputs": [],
   "source": [
    "# распределение процента двоек ко всем оценкам внури семестра за все время обучения \n",
    "# над каждым столбцом указано количество студентов, которые попадают в этот промежуток\n",
    "# наблюдения связынные с одним студентом могут быть в разных бинах, поэтому сумма чисел над\n",
    "# столбцами больше чем общее количество студентов двоечников (1039)\n",
    "x_ticks = np.arange(0, 101, 5)\n",
    "\n",
    "# Распределение процента исправленных двоек\n",
    "plt.figure(figsize=(10, 6))\n",
    "histogram = sns.histplot(dvoechki['percentage'], bins=range(0, 101, 5), kde=False, color='darkblue')\n",
    "plt.xticks(x_ticks)\n",
    "plt.title('Процент двоек внутри семестра')\n",
    "plt.xlabel('Процент двоек ко всем оценкам в одном семестре')\n",
    "plt.ylabel('Количество наблюдений')\n",
    "\n",
    "# Количество уникальных студентов в каждом бине\n",
    "for p in histogram.patches:\n",
    "    bin_mask = dvoechki['percentage'].between(p.get_x(), p.get_x() + p.get_width())\n",
    "    students_count = dvoechki[bin_mask]['uuid'].nunique()\n",
    "    histogram.annotate(f'{students_count}', (p.get_x() + p.get_width() / 2., p.get_height()), ha='center', va='center', xytext=(0, 5), textcoords='offset points')\n",
    "\n",
    "plt.show()"
   ]
  },
  {
   "cell_type": "code",
   "execution_count": null,
   "metadata": {},
   "outputs": [],
   "source": [
    "dvoechki['count_marks_final'].max()"
   ]
  },
  {
   "cell_type": "code",
   "execution_count": null,
   "metadata": {},
   "outputs": [],
   "source": []
  },
  {
   "cell_type": "code",
   "execution_count": null,
   "metadata": {},
   "outputs": [],
   "source": [
    "dvoechki['count_marks_final'].value_counts()"
   ]
  },
  {
   "cell_type": "code",
   "execution_count": null,
   "metadata": {},
   "outputs": [],
   "source": [
    "# распределение двоечников по количеству полученных двоек за один семестр для всех вариантов двоек, полученных в одну сессию \n",
    "\n",
    "# Подсчет количества уникальных значений в столбце count_marks_final\n",
    "unique_counts = dvoechki['count_marks_final'].value_counts()\n",
    "\n",
    "# Распределение двоечников по количеству полученных двоек за один семестр для всех вариантов двоек, полученных в одну сессию\n",
    "plt.figure(figsize=(10, 6))\n",
    "unique_counts.plot(kind='bar', color='orange')\n",
    "plt.title('Количество двоек внутри семестра')\n",
    "plt.xlabel('Количество двоек')\n",
    "plt.ylabel('Количество наблюдений')\n",
    "\n",
    "plt.xticks(rotation=0)\n",
    "\n",
    "\n",
    "\n",
    "# Количество наблюдений в каждой группе\n",
    "for i, count in enumerate(unique_counts):\n",
    "    plt.text(i, count, str(count), ha='center', va='bottom')\n",
    "\n",
    "plt.show()"
   ]
  },
  {
   "cell_type": "code",
   "execution_count": null,
   "metadata": {},
   "outputs": [],
   "source": [
    "# распределение двоечников по количеству полученных двоек за один семестр для всех вариантов двоек, полученных в одну сессию \n",
    "# только теперь над столбцами количество студентов, у которых было столько двоек \n",
    "grouped_data = dvoechki.groupby('count_marks_final')['uuid'].agg(['count', 'nunique'])\n",
    "\n",
    "# Распределение двоечников по количеству полученных двоек за один семестр для всех вариантов двоек, полученных в одну сессию\n",
    "plt.figure(figsize=(12, 6))\n",
    "grouped_data['count'].plot(kind='bar', color='orange')\n",
    "plt.title('Количество двоек внутри семестра')\n",
    "plt.xlabel('Количество двоек')\n",
    "plt.ylabel('Количество наблюдений')\n",
    "plt.xticks(rotation=0)\n",
    "\n",
    "# Количество уникальных uuid в каждой группе\n",
    "for i, count in enumerate(grouped_data['nunique']):\n",
    "    plt.text(i, grouped_data['count'].iloc[i], str(count), ha='center', va='bottom')\n",
    "\n",
    "plt.show()"
   ]
  },
  {
   "cell_type": "code",
   "execution_count": null,
   "metadata": {},
   "outputs": [],
   "source": [
    "# распределение двоечников по количеству полученных двоек за один семестр для всех вариантов двоек, полученных в одну сессию \n",
    "# Группировка данных по количеству двоек и уникальным uuid\n",
    "grouped_data = dvoechki.groupby('count_marks_final')['uuid'].nunique()\n",
    "\n",
    "# Распределение двоечников по количеству полученных двоек за один семестр для всех вариантов двоек, полученных в одну сессию\n",
    "plt.figure(figsize=(10, 6))\n",
    "grouped_data.plot(kind='bar', color='orange')\n",
    "plt.title('Количество двоек внутри семестра')\n",
    "plt.xlabel('Количество двоек')\n",
    "plt.ylabel('Количество студентов')\n",
    "\n",
    "plt.xticks(rotation=0)\n",
    "\n",
    "# Количество уникальных uuid в каждой группе\n",
    "for i, count in enumerate(grouped_data):\n",
    "    plt.text(i, count, str(count), ha='center', va='bottom')\n",
    "\n",
    "plt.show()"
   ]
  },
  {
   "cell_type": "code",
   "execution_count": null,
   "metadata": {},
   "outputs": [],
   "source": [
    "dvoechki.info()"
   ]
  },
  {
   "cell_type": "code",
   "execution_count": null,
   "metadata": {},
   "outputs": [],
   "source": [
    "\n",
    "# Count of failds_corrected_percent values\n",
    "# count_marks_final_counts = dvoechki['count_marks_final'].value_counts()\n",
    "\n",
    "# Plotting pie chart\n",
    "#plt.figure(figsize=(8, 8))  # Define figure size\n",
    "#plt.pie(count_marks_final_counts, labels=count_marks_final_counts.index, autopct='%1.1f%%', colors=plt.cm.tab20.colors)\n",
    "#plt.title('Distribution of Final Marks')\n",
    "#plt.show()"
   ]
  },
  {
   "cell_type": "code",
   "execution_count": null,
   "metadata": {},
   "outputs": [],
   "source": [
    "# распределение для количества двоек за все время учебы\n",
    "dvoechki_pivot_vsego['dvoiki_sum']=dvoechki_pivot_vsego[['20_21_semestr1', '20_21_semestr2', '21_22_semestr1', '21_22_semestr2',\n",
    "       '22_23_semestr1', '22_23_semestr2', '23_24_semestr1']].sum(axis=1)"
   ]
  },
  {
   "cell_type": "code",
   "execution_count": null,
   "metadata": {},
   "outputs": [],
   "source": [
    "dvoechki_pivot_vsego.columns    "
   ]
  },
  {
   "cell_type": "code",
   "execution_count": null,
   "metadata": {},
   "outputs": [],
   "source": [
    "dvoechki_pivot_vsego['dvoiki_sum'].max()"
   ]
  },
  {
   "cell_type": "code",
   "execution_count": null,
   "metadata": {},
   "outputs": [],
   "source": [
    "# вывести людей от 80 двоек посмотреть на них"
   ]
  },
  {
   "cell_type": "code",
   "execution_count": null,
   "metadata": {},
   "outputs": [],
   "source": [
    "# распределение двоек за все время учебы \n",
    "# шаги на оси ox\n",
    "x_ticks = np.arange(0, 185, 10)\n",
    "\n",
    "# распределение процента исправленных двоек \n",
    "plt.figure(figsize=(10, 6))\n",
    "histogram=sns.histplot(dvoechki_pivot_vsego['dvoiki_sum'], bins=range(0, 185,10), kde=False, color='darkblue')\n",
    "plt.xticks(x_ticks)\n",
    "plt.title('Двойки за все время учёбы')\n",
    "plt.xlabel('Всего двоек за время учёбы')\n",
    "plt.ylabel('Количество студентов')\n",
    "\n",
    "# количество наблюдений в каждой группе\n",
    "for p in histogram.patches:\n",
    "    histogram.annotate(f'{p.get_height()}', (p.get_x() + p.get_width() / 2., p.get_height()), ha='center', va='center', xytext=(0, 5), textcoords='offset points')\n",
    "\n",
    "plt.show()"
   ]
  },
  {
   "cell_type": "code",
   "execution_count": null,
   "metadata": {},
   "outputs": [],
   "source": []
  },
  {
   "cell_type": "markdown",
   "metadata": {},
   "source": [
    "#### кластеры графики"
   ]
  },
  {
   "cell_type": "code",
   "execution_count": null,
   "metadata": {},
   "outputs": [],
   "source": [
    "dvoechki_vsego=dvoechki_vsego.set_index('uuid')"
   ]
  },
  {
   "cell_type": "code",
   "execution_count": null,
   "metadata": {},
   "outputs": [],
   "source": []
  },
  {
   "cell_type": "code",
   "execution_count": null,
   "metadata": {},
   "outputs": [],
   "source": [
    "# по графику видно что если увеличивать количество кластеров после 5, разброс меняется незначительно, остановимся на 5 кластерах \n",
    "# подбор оптимального количества кластеров\n",
    "inertia = []\n",
    "for n_clusters in range(1, 30):\n",
    "    kmeans = KMeans(n_clusters=n_clusters, random_state=42)\n",
    "    kmeans.fit(dvoechki_vsego)\n",
    "    inertia.append(kmeans.inertia_)\n",
    "\n",
    "# локоть\n",
    "plt.plot(range(1, 30), inertia, marker='o')\n",
    "plt.xlabel('Количество кластеров')\n",
    "plt.ylabel('Внутрикластерный разброс')\n",
    "plt.title('Метод локтя для подбора количества кластеров')\n",
    "plt.show()"
   ]
  },
  {
   "cell_type": "code",
   "execution_count": null,
   "metadata": {},
   "outputs": [],
   "source": [
    "# 5 КЛАСТЕРОВ без подписей\n",
    "\n",
    "dvoechki_vsego_2020_5_clusters = dvoechki_vsego.copy()\n",
    "\n",
    "# Задаем количество кластеров\n",
    "n_clusters = 5\n",
    "\n",
    "# Применяем метод k-средних для кластеризации\n",
    "kmeans = KMeans(n_clusters=n_clusters, random_state=42)\n",
    "cluster_labels = kmeans.fit_predict(dvoechki_vsego)\n",
    "cluster_labels += 1\n",
    "\n",
    "# Добавляем метки кластеров в датафрейм\n",
    "dvoechki_vsego_2020_5_clusters['cluster'] = cluster_labels\n",
    "\n",
    "# Применяем PCA для уменьшения размерности\n",
    "pca = PCA(n_components=2)\n",
    "pca_result = pca.fit_transform(dvoechki_vsego)\n",
    "\n",
    "# Создаем датафрейм с результирующими данными PCA\n",
    "pca_df = pd.DataFrame(data=pca_result, columns=['PC1', 'PC2'])\n",
    "dvoechki_dinamika_copy = dvoechki_vsego_2020_5_clusters.reset_index(drop=True)\n",
    "pca_df['cluster'] = dvoechki_dinamika_copy['cluster']\n",
    "\n",
    "# Строим график рассеяния без меток осей и точек\n",
    "sns.scatterplot(x='PC1', y='PC2', hue='cluster', data=pca_df, palette='viridis')\n",
    "plt.title('PCA: Распределение точек по кластерам')\n",
    "plt.xlabel('')\n",
    "plt.ylabel('')\n",
    "plt.xticks([])\n",
    "plt.yticks([])\n",
    "plt.show()\n"
   ]
  },
  {
   "cell_type": "markdown",
   "metadata": {},
   "source": [
    "#### анализ кластеров"
   ]
  },
  {
   "cell_type": "code",
   "execution_count": null,
   "metadata": {},
   "outputs": [],
   "source": [
    "cluster_stats = dvoechki_vsego_2020_5_clusters.groupby('cluster').mean()*100\n",
    "cluster_sizes = dvoechki_vsego_2020_5_clusters['cluster'].value_counts(normalize=True).sort_index()\n",
    "cluster_numbers = dvoechki_vsego_2020_5_clusters['cluster'].value_counts().sort_index()"
   ]
  },
  {
   "cell_type": "code",
   "execution_count": null,
   "metadata": {},
   "outputs": [],
   "source": [
    "# Визуализация\n",
    "fig, (ax1, ax2) = plt.subplots(1, 2, figsize=(15, 6), gridspec_kw={'width_ratios': [4, 2]})\n",
    "\n",
    "# График средних значений\n",
    "sns.heatmap(cluster_stats.T, annot=True, cmap=\"YlGnBu\", ax=ax1)\n",
    "ax1.set_title('Динамика изменения процента двоечников по семестрам')\n",
    "ax1.set_xlabel('Кластер')\n",
    "ax1.set_ylabel('Дата')\n",
    "\n",
    "# График размеров кластеров\n",
    "bar_plot = sns.barplot(x=cluster_numbers.index, y=cluster_numbers.values, ax=ax2)\n",
    "ax2.set_title('Количество двоечником в каждом кластере от всех двоечников')\n",
    "ax2.set_xlabel('Кластер')\n",
    "ax2.set_ylabel('Количество')\n",
    "\n",
    "# Добавляем текст с размерами кластеров наверху столбиков\n",
    "for p in bar_plot.patches:\n",
    "    bar_plot.annotate(f'{p.get_height()}', (p.get_x() + p.get_width() / 2., p.get_height()),\n",
    "                      ha='center', va='center', xytext=(0, 10), textcoords='offset points')\n",
    "\n",
    "plt.tight_layout()\n",
    "plt.show()"
   ]
  },
  {
   "cell_type": "markdown",
   "metadata": {},
   "source": [
    "#### анализ кластеров"
   ]
  },
  {
   "cell_type": "code",
   "execution_count": null,
   "metadata": {},
   "outputs": [],
   "source": [
    "dvoechki_clusters=dvoechki_vsego_2020_5_clusters.reset_index()   \n",
    "dvoechki_clusters.head(3)"
   ]
  },
  {
   "cell_type": "code",
   "execution_count": null,
   "metadata": {},
   "outputs": [],
   "source": [
    "dvoechki_clusters['cluster'].value_counts()"
   ]
  },
  {
   "cell_type": "code",
   "execution_count": null,
   "metadata": {},
   "outputs": [],
   "source": [
    "# получаем датафреймы для каждого кластера \n",
    "clustered_dfs = []\n",
    "\n",
    "# Проходим по каждому кластеру\n",
    "for cluster in range(1, 6):\n",
    "    # Фильтруем строки, принадлежащие текущему кластеру\n",
    "    cluster_data = dvoechki_clusters[dvoechki_clusters['cluster'] == cluster].copy()\n",
    "    \n",
    "    # Добавляем столбец с номером кластера\n",
    "    cluster_data['cluster'] = cluster\n",
    "    \n",
    "    # Добавляем текущий датафрейм в список\n",
    "    clustered_dfs.append(cluster_data)\n"
   ]
  },
  {
   "cell_type": "code",
   "execution_count": null,
   "metadata": {},
   "outputs": [],
   "source": [
    "len(clustered_dfs)"
   ]
  },
  {
   "cell_type": "code",
   "execution_count": null,
   "metadata": {},
   "outputs": [],
   "source": [
    "# отбираем данные для анализ групп и факультетов\n",
    "stud_feb_common=stud_feb[['uuid','faculty', 'group']].drop_duplicates(subset='uuid').reset_index(drop=True)\n",
    "dvoechki_clusters=dvoechki_clusters.reset_index()\n",
    "dvoechniki_with_common=pd.merge(dvoechki_clusters[['uuid','cluster']],stud_feb_common,how='inner',on='uuid')"
   ]
  },
  {
   "cell_type": "code",
   "execution_count": null,
   "metadata": {},
   "outputs": [],
   "source": [
    "dvoechniki_with_common.head()"
   ]
  },
  {
   "cell_type": "code",
   "execution_count": null,
   "metadata": {},
   "outputs": [],
   "source": [
    "dvoechniki_with_common.head()"
   ]
  },
  {
   "cell_type": "code",
   "execution_count": null,
   "metadata": {},
   "outputs": [],
   "source": []
  },
  {
   "cell_type": "code",
   "execution_count": null,
   "metadata": {},
   "outputs": [],
   "source": [
    "dvoechniki_with_common['group'] = dvoechniki_with_common['group'].str.extract(r'^(.*?-.*?)-', expand=False)\n",
    "dvoechniki_with_common.head()"
   ]
  },
  {
   "cell_type": "code",
   "execution_count": null,
   "metadata": {},
   "outputs": [],
   "source": [
    "# факультеты\n",
    "grouped_clusters = dvoechniki_with_common.groupby('cluster')\n",
    "\n",
    "# Создание отдельных таблиц для каждого кластера\n",
    "cluster_tables = {}  # Словарь для хранения таблиц\n",
    "\n",
    "for cluster, group_data in grouped_clusters:\n",
    "    # Создание таблицы для текущего кластера\n",
    "    cluster_table = pd.DataFrame()\n",
    "\n",
    "    # Количество наблюдений для каждого факультета\n",
    "    faculty_counts = group_data['faculty'].value_counts()\n",
    "\n",
    "    # Добавление данных в таблицу\n",
    "    cluster_table['Faculty Counts'] = faculty_counts\n",
    "\n",
    "    # Сохранение таблицы в словарь\n",
    "    cluster_tables[cluster] = cluster_table\n",
    "\n",
    "    # Размер кластера\n",
    "    cluster_size = len(group_data)\n",
    "\n",
    "    # Построение круговой диаграммы\n",
    "    plt.figure(figsize=(8, 8))\n",
    "    threshold = 0.03  # Порог для отображения секторов\n",
    "    relevant_faculties = faculty_counts[faculty_counts / faculty_counts.sum() > threshold]\n",
    "    explode = (relevant_faculties.index == relevant_faculties.idxmax()).astype(float) * 0.1  # Выделение максимального сектора\n",
    "    plt.pie(relevant_faculties, labels=relevant_faculties.index, autopct=lambda p: f'{int(p * sum(relevant_faculties) / 100)}', startangle=140, explode=explode)\n",
    "    plt.title(f'Кластер {cluster}, размер кластера {cluster_size}')\n",
    "    plt.show()"
   ]
  },
  {
   "cell_type": "code",
   "execution_count": null,
   "metadata": {},
   "outputs": [],
   "source": [
    "# группы\n",
    "# разбить по потокам убрать цифры после года \n",
    "cluster_tables_group = {}  # Словарь для хранения таблиц\n",
    "\n",
    "for cluster, group_data in grouped_clusters:\n",
    "    # Создание таблицы для текущего кластера\n",
    "    cluster_table = pd.DataFrame()\n",
    "\n",
    "    # Количество наблюдений для каждого факультета\n",
    "    faculty_counts = group_data['group'].value_counts()\n",
    "\n",
    "    # Добавление данных в таблицу\n",
    "    cluster_table['Faculty Counts'] = faculty_counts\n",
    "\n",
    "    # Сохранение таблицы в словарь\n",
    "    cluster_tables_group[cluster] = cluster_table\n",
    "\n",
    "    # Размер кластера\n",
    "    cluster_size = len(group_data)\n",
    "\n",
    "    # Построение круговой диаграммы\n",
    "    plt.figure(figsize=(8, 8))\n",
    "    threshold = 0.02  # Порог для отображения секторов\n",
    "    relevant_faculties = faculty_counts[faculty_counts / faculty_counts.sum() > threshold]\n",
    "    explode = (relevant_faculties.index == relevant_faculties.idxmax()).astype(float) * 0.1  # Выделение максимального сектора\n",
    "    plt.pie(relevant_faculties, labels=relevant_faculties.index, autopct=lambda p: f'{int(p * sum(relevant_faculties) / 100)}', startangle=140, explode=explode)\n",
    "    plt.title(f'Кластер {cluster}, размер кластера {cluster_size}')\n",
    "    plt.show()"
   ]
  },
  {
   "cell_type": "code",
   "execution_count": null,
   "metadata": {},
   "outputs": [],
   "source": []
  }
 ],
 "metadata": {
  "kernelspec": {
   "display_name": "Python 3",
   "language": "python",
   "name": "python3"
  },
  "language_info": {
   "codemirror_mode": {
    "name": "ipython",
    "version": 3
   },
   "file_extension": ".py",
   "mimetype": "text/x-python",
   "name": "python",
   "nbconvert_exporter": "python",
   "pygments_lexer": "ipython3",
   "version": "3.10.12"
  }
 },
 "nbformat": 4,
 "nbformat_minor": 2
}
